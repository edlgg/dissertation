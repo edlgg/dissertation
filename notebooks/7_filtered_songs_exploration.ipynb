{
 "cells": [
  {
   "cell_type": "code",
   "execution_count": 14,
   "metadata": {},
   "outputs": [],
   "source": [
    "# Split into 5000 tick images with 1000 tick shift\n",
    "import mido\n",
    "from utils import mido_setup, get_track_instrument_type\n",
    "import os\n",
    "import pandas\n",
    "from collections import Counter\n",
    "from matplotlib import pyplot as plt"
   ]
  },
  {
   "cell_type": "code",
   "execution_count": 15,
   "metadata": {},
   "outputs": [],
   "source": [
    "path = \"/Users/edlgg/repos/dissertation/midis/v3/control_change/0_vel/120/\""
   ]
  },
  {
   "cell_type": "code",
   "execution_count": 17,
   "metadata": {},
   "outputs": [
    {
     "name": "stdout",
     "output_type": "stream",
     "text": [
      "2568 46\n"
     ]
    }
   ],
   "source": [
    "same = 0\n",
    "not_same = 0\n",
    "for _, _, filenames in os.walk(path):\n",
    "        for filename in filenames:\n",
    "            try:\n",
    "                mid = mido.MidiFile(path + filename)\n",
    "                ceros = 0\n",
    "                non_ceros = 0\n",
    "                for track in mid.tracks:\n",
    "                    for msg in track:\n",
    "                        if msg.type == \"note_on\":\n",
    "                            if msg.velocity == 0:\n",
    "                                ceros = ceros + 1\n",
    "                            else:\n",
    "                                non_ceros = non_ceros + 1\n",
    "                        if msg.type == \"note_off\":\n",
    "                            print(\"THIS SHOULDNT BE HERE\")\n",
    "                if ceros == non_ceros:\n",
    "                    same = same + 1\n",
    "                else:\n",
    "                    not_same = not_same + 1\n",
    "                    os.remove(path + filename)\n",
    "            except Exception as e:\n",
    "                print(e)\n",
    "                os.remove(path + filename)\n",
    "\n",
    "print(same, not_same) #2568 46\n",
    "            "
   ]
  },
  {
   "cell_type": "code",
   "execution_count": null,
   "metadata": {},
   "outputs": [],
   "source": []
  },
  {
   "cell_type": "code",
   "execution_count": null,
   "metadata": {},
   "outputs": [],
   "source": []
  },
  {
   "cell_type": "code",
   "execution_count": null,
   "metadata": {},
   "outputs": [],
   "source": []
  },
  {
   "cell_type": "code",
   "execution_count": null,
   "metadata": {},
   "outputs": [],
   "source": []
  }
 ],
 "metadata": {
  "kernelspec": {
   "display_name": "Python 3.7.4 64-bit ('dissertation': venv)",
   "language": "python",
   "name": "python37464bitdissertationvenv4d27c5bea19f4b9c854c53475dba7980"
  },
  "language_info": {
   "codemirror_mode": {
    "name": "ipython",
    "version": 3
   },
   "file_extension": ".py",
   "mimetype": "text/x-python",
   "name": "python",
   "nbconvert_exporter": "python",
   "pygments_lexer": "ipython3",
   "version": "3.7.4"
  }
 },
 "nbformat": 4,
 "nbformat_minor": 4
}
