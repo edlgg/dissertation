{
 "cells": [
  {
   "cell_type": "code",
   "execution_count": 2,
   "metadata": {
    "pycharm": {
     "name": "#%% Steps\n"
    }
   },
   "outputs": [],
   "source": []
  },
  {
   "cell_type": "code",
   "execution_count": 2,
   "metadata": {},
   "outputs": [],
   "source": [
    "import mido\n",
    "from utils import mido_setup, get_track_instrument_type\n",
    "import os\n",
    "import pandas\n",
    "from collections import Counter"
   ]
  },
  {
   "cell_type": "code",
   "execution_count": 3,
   "metadata": {
    "pycharm": {
     "name": "#%%\n"
    }
   },
   "outputs": [
    {
     "ename": "FileNotFoundError",
     "evalue": "[Errno 2] No such file or directory: '/Users/edlgg/repos/dissertation/midis/guitar_bass_midis/971113.mid'",
     "output_type": "error",
     "traceback": [
      "\u001b[0;31m---------------------------------------------------------------------------\u001b[0m",
      "\u001b[0;31mFileNotFoundError\u001b[0m                         Traceback (most recent call last)",
      "\u001b[0;32m<ipython-input-3-dcdf7da672d4>\u001b[0m in \u001b[0;36m<module>\u001b[0;34m\u001b[0m\n\u001b[1;32m      3\u001b[0m \u001b[0mfiltered_path\u001b[0m \u001b[0;34m=\u001b[0m \u001b[0;34m\"/Users/edlgg/repos/dissertation/midis/filtered_midis/\"\u001b[0m\u001b[0;34m\u001b[0m\u001b[0;34m\u001b[0m\u001b[0m\n\u001b[1;32m      4\u001b[0m \u001b[0mguitar_bass_path\u001b[0m \u001b[0;34m=\u001b[0m \u001b[0;34m\"/Users/edlgg/repos/dissertation/midis/guitar_bass_midis/\"\u001b[0m\u001b[0;34m\u001b[0m\u001b[0;34m\u001b[0m\u001b[0m\n\u001b[0;32m----> 5\u001b[0;31m \u001b[0msong\u001b[0m \u001b[0;34m=\u001b[0m \u001b[0mmido\u001b[0m\u001b[0;34m.\u001b[0m\u001b[0mMidiFile\u001b[0m\u001b[0;34m(\u001b[0m\u001b[0mguitar_bass_path\u001b[0m \u001b[0;34m+\u001b[0m \u001b[0;34m\"971113.mid\"\u001b[0m\u001b[0;34m)\u001b[0m\u001b[0;34m\u001b[0m\u001b[0;34m\u001b[0m\u001b[0m\n\u001b[0m",
      "\u001b[0;32m~/.virtualenvs/dissertation/lib/python3.7/site-packages/mido/midifiles/midifiles.py\u001b[0m in \u001b[0;36m__init__\u001b[0;34m(self, filename, file, type, ticks_per_beat, charset, debug, clip)\u001b[0m\n\u001b[1;32m    313\u001b[0m             \u001b[0mself\u001b[0m\u001b[0;34m.\u001b[0m\u001b[0m_load\u001b[0m\u001b[0;34m(\u001b[0m\u001b[0mfile\u001b[0m\u001b[0;34m)\u001b[0m\u001b[0;34m\u001b[0m\u001b[0;34m\u001b[0m\u001b[0m\n\u001b[1;32m    314\u001b[0m         \u001b[0;32melif\u001b[0m \u001b[0mself\u001b[0m\u001b[0;34m.\u001b[0m\u001b[0mfilename\u001b[0m \u001b[0;32mis\u001b[0m \u001b[0;32mnot\u001b[0m \u001b[0;32mNone\u001b[0m\u001b[0;34m:\u001b[0m\u001b[0;34m\u001b[0m\u001b[0;34m\u001b[0m\u001b[0m\n\u001b[0;32m--> 315\u001b[0;31m             \u001b[0;32mwith\u001b[0m \u001b[0mio\u001b[0m\u001b[0;34m.\u001b[0m\u001b[0mopen\u001b[0m\u001b[0;34m(\u001b[0m\u001b[0mfilename\u001b[0m\u001b[0;34m,\u001b[0m \u001b[0;34m'rb'\u001b[0m\u001b[0;34m)\u001b[0m \u001b[0;32mas\u001b[0m \u001b[0mfile\u001b[0m\u001b[0;34m:\u001b[0m\u001b[0;34m\u001b[0m\u001b[0;34m\u001b[0m\u001b[0m\n\u001b[0m\u001b[1;32m    316\u001b[0m                 \u001b[0mself\u001b[0m\u001b[0;34m.\u001b[0m\u001b[0m_load\u001b[0m\u001b[0;34m(\u001b[0m\u001b[0mfile\u001b[0m\u001b[0;34m)\u001b[0m\u001b[0;34m\u001b[0m\u001b[0;34m\u001b[0m\u001b[0m\n\u001b[1;32m    317\u001b[0m \u001b[0;34m\u001b[0m\u001b[0m\n",
      "\u001b[0;31mFileNotFoundError\u001b[0m: [Errno 2] No such file or directory: '/Users/edlgg/repos/dissertation/midis/guitar_bass_midis/971113.mid'"
     ]
    }
   ],
   "source": [
    "mido_setup()\n",
    "\n",
    "filtered_path = \"/Users/edlgg/repos/dissertation/midis/filtered_midis/\"\n",
    "guitar_bass_path = \"/Users/edlgg/repos/dissertation/midis/guitar_bass_midis/\"\n",
    "song = mido.MidiFile(guitar_bass_path + \"971113.mid\")"
   ]
  },
  {
   "cell_type": "code",
   "execution_count": null,
   "metadata": {
    "pycharm": {
     "name": "#%%\n"
    }
   },
   "outputs": [],
   "source": [
    "def song_has_instruments(song, instruments):\n",
    "    has_instruments = [False] * len(instruments)\n",
    "    for i, instrument in enumerate(instruments):\n",
    "        for track in song.tracks:\n",
    "            type_ = get_track_instrument_type(track)\n",
    "            if type_ == instrument:\n",
    "                has_instruments[i] = True\n",
    "\n",
    "    for instrument in has_instruments:\n",
    "        if not instrument:\n",
    "            return False\n",
    "    return True\n",
    "\n",
    "def test_song_has_instruments():\n",
    "    song = mido.MidiFile(filtered_path + \"971113.mid\")\n",
    "    instruments = [\"Guitar\", \"Bass\"]\n",
    "    return song_has_instruments(song, instruments)\n",
    "# test_song_has_instruments()\n"
   ]
  },
  {
   "cell_type": "code",
   "execution_count": null,
   "metadata": {
    "pycharm": {
     "name": "#%%\n"
    }
   },
   "outputs": [],
   "source": [
    "def delete_songs_without_instruments(path, instruments):\n",
    "    for _, _, filenames in os.walk(path):\n",
    "        for filename in filenames:\n",
    "            try:\n",
    "                song = mido.MidiFile(path + filename)\n",
    "                print(\"Loading song: \" + filename)\n",
    "                if song_has_instruments(song, instruments):\n",
    "                    os.rename(path + filename, guitar_bass_path + filename)\n",
    "                    print(\"Moved song: \" + filename)\n",
    "\n",
    "                else:\n",
    "                    print(\"Deleted song: \" + filename)\n",
    "                    os.remove(path + filename)\n",
    "            except:\n",
    "                print(\"Error loading: \" + filename + \" will delete\")\n",
    "                os.remove(path + filename)\n",
    "# delete_songs_without_instruments(filtered_path, [\"Guitar\", \"Bass\"])"
   ]
  },
  {
   "cell_type": "code",
   "execution_count": null,
   "metadata": {
    "pycharm": {
     "name": "#%%\n"
    }
   },
   "outputs": [],
   "source": [
    "def remove_unused_instruments(initial_path, end_path):\n",
    "    for _, _, filenames in os.walk(initial_path):\n",
    "        for filename in filenames:\n",
    "            try:\n",
    "                song = mido.MidiFile(initial_path + filename)\n",
    "                print(\"Loading song: \" + filename)\n",
    "                mid = mido.MidiFile()\n",
    "                guitar_track = []\n",
    "                bass_track = []\n",
    "                for track in song.tracks:\n",
    "                    type_ = get_track_instrument_type(track)\n",
    "                    if type_ == \"Guitar\" and len(track) > len(guitar_track):\n",
    "                        guitar_track = track\n",
    "                    if type_ == \"Bass\" and len(track) > len(bass_track):\n",
    "                        bass_track = track\n",
    "                mid.tracks.append(guitar_track)\n",
    "                mid.tracks.append(bass_track)\n",
    "                mid.save(end_path + filename)\n",
    "                os.remove(initial_path + filename)\n",
    "            except:\n",
    "                print(\"Error with song: \" + filename)\n",
    "                os.remove(initial_path + filename)\n",
    "remove_unused_instruments(filtered_path, guitar_bass_path)"
   ]
  },
  {
   "cell_type": "code",
   "execution_count": null,
   "metadata": {
    "pycharm": {
     "is_executing": true,
     "name": "#%%\n"
    }
   },
   "outputs": [],
   "source": [
    "def make_sure_everything_is_okey(path):\n",
    "    for _, _, filenames in os.walk(path):\n",
    "        for filename in filenames:\n",
    "            try:\n",
    "                mid = mido.MidiFile(path + filename)\n",
    "                print(\"Loaded: \" + filename)\n",
    "                if len(mid.tracks) != 2:\n",
    "                    print(\"Deleted: \" + filename)\n",
    "                    os.remove((path + filename))\n",
    "            except:\n",
    "                print(\"Error with song: \" + filename)\n",
    "                os.remove((path + filename))\n",
    "# make_sure_everything_is_okey(guitar_bass_path)"
   ]
  },
  {
   "cell_type": "code",
   "execution_count": null,
   "metadata": {
    "pycharm": {
     "name": "#%%\n"
    },
    "scrolled": true
   },
   "outputs": [],
   "source": [
    "def check_songs_velocities(path):\n",
    "    has_120_vels = 0\n",
    "    doesnt = 0\n",
    "    i = 0\n",
    "    for _, _, filenames in os.walk(path):\n",
    "        for filename in filenames:\n",
    "            has_120 = True\n",
    "            if i % 100 == 0:\n",
    "                print(has_120_vels, doesnt)\n",
    "            i = i + 1\n",
    "            try:\n",
    "                mid = mido.MidiFile(path + filename)\n",
    "                for track in mid.tracks:\n",
    "                    for msg in track:\n",
    "                        if msg.type == \"note_on\":\n",
    "                            if msg.velocity != 120:\n",
    "                                has_120 = False\n",
    "                if has_120:\n",
    "                    has_120_vels = has_120_vels + 1\n",
    "                else:\n",
    "                    doesnt = doesnt + 1\n",
    "            except:\n",
    "                print(\"Error with song: \" + filename)\n",
    "                os.remove((path + filename))\n",
    "                \n",
    "    return has_120_vels, doesnt\n",
    "has_120_vels, doesnt = check_songs_velocities(guitar_bass_path) #124 25376"
   ]
  },
  {
   "cell_type": "code",
   "execution_count": null,
   "metadata": {
    "scrolled": true
   },
   "outputs": [],
   "source": [
    "def get_lengths_and_notes(path):\n",
    "    min_notes = []\n",
    "    max_notes = []\n",
    "    lens = []\n",
    "    i = 0\n",
    "    for _, _, filenames in os.walk(path):\n",
    "        for filename in filenames:\n",
    "            if i % 1000 == 0:\n",
    "                print(i, 25376)\n",
    "            i = i + 1\n",
    "            try:\n",
    "                mid = mido.MidiFile(path + filename)\n",
    "                for track in mid.tracks:\n",
    "                    min_note = 999\n",
    "                    max_note = -1\n",
    "                    for msg in track:\n",
    "                        if msg.type == \"note_on\":\n",
    "                            if msg.note < min_note:\n",
    "                                min_note = msg.note\n",
    "                            if msg.note > max_note:\n",
    "                                max_note = msg.note\n",
    "                    min_notes.append(min_note)\n",
    "                    max_notes.append(max_note)\n",
    "                    lens.append(len(track))\n",
    "            except:\n",
    "                print(\"Error with song: \" + filename)\n",
    "                os.remove((path + filename))\n",
    "    return min_notes, max_notes, lens\n",
    "# min_notes, max_notes, lens = get_lengths_and_notes(guitar_bass_path)\n",
    "# print(min_notes, max_notes, lens)"
   ]
  },
  {
   "cell_type": "code",
   "execution_count": null,
   "metadata": {},
   "outputs": [],
   "source": []
  },
  {
   "cell_type": "code",
   "execution_count": null,
   "metadata": {},
   "outputs": [],
   "source": []
  },
  {
   "cell_type": "code",
   "execution_count": 4,
   "metadata": {},
   "outputs": [
    {
     "ename": "NameError",
     "evalue": "name 'lens' is not defined",
     "output_type": "error",
     "traceback": [
      "\u001b[0;31m---------------------------------------------------------------------------\u001b[0m",
      "\u001b[0;31mNameError\u001b[0m                                 Traceback (most recent call last)",
      "\u001b[0;32m<ipython-input-4-57e7ff37579c>\u001b[0m in \u001b[0;36m<module>\u001b[0;34m\u001b[0m\n\u001b[0;32m----> 1\u001b[0;31m \u001b[0mlens\u001b[0m\u001b[0;34m.\u001b[0m\u001b[0msort\u001b[0m\u001b[0;34m(\u001b[0m\u001b[0;34m)\u001b[0m\u001b[0;34m\u001b[0m\u001b[0;34m\u001b[0m\u001b[0m\n\u001b[0m\u001b[1;32m      2\u001b[0m \u001b[0mrounded_lens\u001b[0m \u001b[0;34m=\u001b[0m \u001b[0mlist\u001b[0m\u001b[0;34m(\u001b[0m\u001b[0mmap\u001b[0m\u001b[0;34m(\u001b[0m\u001b[0;32mlambda\u001b[0m \u001b[0mx\u001b[0m\u001b[0;34m:\u001b[0m \u001b[0mround\u001b[0m\u001b[0;34m(\u001b[0m\u001b[0mx\u001b[0m\u001b[0;34m,\u001b[0m \u001b[0;34m-\u001b[0m\u001b[0;36m2\u001b[0m\u001b[0;34m)\u001b[0m\u001b[0;34m,\u001b[0m \u001b[0mlens\u001b[0m\u001b[0;34m)\u001b[0m\u001b[0;34m)\u001b[0m\u001b[0;34m\u001b[0m\u001b[0;34m\u001b[0m\u001b[0m\n\u001b[1;32m      3\u001b[0m \u001b[0mcount\u001b[0m \u001b[0;34m=\u001b[0m \u001b[0mCounter\u001b[0m\u001b[0;34m(\u001b[0m\u001b[0mrounded_lens\u001b[0m\u001b[0;34m)\u001b[0m\u001b[0;34m\u001b[0m\u001b[0;34m\u001b[0m\u001b[0m\n\u001b[1;32m      4\u001b[0m \u001b[0mdf\u001b[0m \u001b[0;34m=\u001b[0m \u001b[0mpandas\u001b[0m\u001b[0;34m.\u001b[0m\u001b[0mDataFrame\u001b[0m\u001b[0;34m.\u001b[0m\u001b[0mfrom_dict\u001b[0m\u001b[0;34m(\u001b[0m\u001b[0mcount\u001b[0m\u001b[0;34m,\u001b[0m \u001b[0morient\u001b[0m\u001b[0;34m=\u001b[0m\u001b[0;34m'index'\u001b[0m\u001b[0;34m)\u001b[0m\u001b[0;34m\u001b[0m\u001b[0;34m\u001b[0m\u001b[0m\n\u001b[1;32m      5\u001b[0m \u001b[0mdf\u001b[0m\u001b[0;34m.\u001b[0m\u001b[0mplot\u001b[0m\u001b[0;34m(\u001b[0m\u001b[0mkind\u001b[0m\u001b[0;34m=\u001b[0m\u001b[0;34m'bar'\u001b[0m\u001b[0;34m,\u001b[0m \u001b[0mtitle\u001b[0m\u001b[0;34m=\u001b[0m\u001b[0;34m'Lens'\u001b[0m\u001b[0;34m,\u001b[0m \u001b[0mfigsize\u001b[0m\u001b[0;34m=\u001b[0m\u001b[0;34m(\u001b[0m\u001b[0;36m40\u001b[0m\u001b[0;34m,\u001b[0m\u001b[0;36m5\u001b[0m\u001b[0;34m)\u001b[0m\u001b[0;34m)\u001b[0m\u001b[0;34m\u001b[0m\u001b[0;34m\u001b[0m\u001b[0m\n",
      "\u001b[0;31mNameError\u001b[0m: name 'lens' is not defined"
     ]
    }
   ],
   "source": [
    "lens.sort()\n",
    "rounded_lens = list(map(lambda x: round(x, -2), lens))\n",
    "count = Counter(rounded_lens)\n",
    "df = pandas.DataFrame.from_dict(count, orient='index')\n",
    "df.plot(kind='bar', title='Lens', figsize=(40,5))\n",
    "# max len 5000"
   ]
  },
  {
   "cell_type": "code",
   "execution_count": 35,
   "metadata": {
    "scrolled": true
   },
   "outputs": [
    {
     "data": {
      "text/plain": [
       "<matplotlib.axes._subplots.AxesSubplot at 0x141699fd0>"
      ]
     },
     "execution_count": 35,
     "metadata": {},
     "output_type": "execute_result"
    },
    {
     "data": {
      "image/png": "[encoded data removed]",
      "text/plain": [
       "<Figure size 2880x360 with 1 Axes>"
      ]
     },
     "metadata": {
      "needs_background": "light"
     },
     "output_type": "display_data"
    }
   ],
   "source": [
    "min_notes.sort()\n",
    "rounded = list(map(lambda x: round(x, -1), min_notes))\n",
    "count = Counter(min_notes)\n",
    "df = pandas.DataFrame.from_dict(count, orient='index')\n",
    "df.plot(kind='bar', title='Min notes', figsize=(40,5))"
   ]
  },
  {
   "cell_type": "code",
   "execution_count": 36,
   "metadata": {},
   "outputs": [
    {
     "data": {
      "text/plain": [
       "<matplotlib.axes._subplots.AxesSubplot at 0x142cb6410>"
      ]
     },
     "execution_count": 36,
     "metadata": {},
     "output_type": "execute_result"
    },
    {
     "data": {
      "image/png": "[encoded data removed]",
      "text/plain": [
       "<Figure size 2880x360 with 1 Axes>"
      ]
     },
     "metadata": {
      "needs_background": "light"
     },
     "output_type": "display_data"
    }
   ],
   "source": [
    "max_notes.sort()\n",
    "rounded = list(map(lambda x: round(x, -1), max_notes))\n",
    "count = Counter(max_notes)\n",
    "df = pandas.DataFrame.from_dict(count, orient='index')\n",
    "df.plot(kind='bar', title='Min notes', figsize=(40,5))"
   ]
  },
  {
   "cell_type": "code",
   "execution_count": 11,
   "metadata": {
    "scrolled": true
   },
   "outputs": [
    {
     "name": "stdout",
     "output_type": "stream",
     "text": [
      "0 25376\n",
      "1000 25376\n",
      "2000 25376\n",
      "3000 25376\n",
      "4000 25376\n",
      "5000 25376\n"
     ]
    }
   ],
   "source": [
    "def multifilter(initial_path, final_path):\n",
    "    i = 0\n",
    "    for _, _, filenames in os.walk(initial_path):\n",
    "        for filename in filenames:\n",
    "            if i % 1000 == 0:\n",
    "                print(i, 25376)\n",
    "            i = i + 1\n",
    "            try:\n",
    "                mid = mido.MidiFile(initial_path + filename)\n",
    "                min_note = 999\n",
    "                max_note = -1\n",
    "                for track in mid.tracks:\n",
    "                    for msg in track:\n",
    "                        if msg.type == \"note_on\":\n",
    "                            if msg.note < min_note:\n",
    "                                min_note = msg.note\n",
    "                            if msg.note > max_note:\n",
    "                                max_note = msg.note\n",
    "                if min_note > 20 and min_note != 999 and max_note < 90 and max_note != -1 and len(mid.tracks[0]) < 4000 and len(mid.tracks[1]) < 4000:\n",
    "                    os.rename(initial_path + filename, final_path + filename)\n",
    "                else:\n",
    "                    os.remove(initial_path + filename)\n",
    "            except Exception as e:\n",
    "                print(\"Error with song: \" + filename)\n",
    "                print(e)\n",
    "                os.remove(initial_path + filename)\n",
    "                \n",
    "initial_path = \"/Users/edlgg/repos/dissertation/midis/guitar_bass_midis/\"\n",
    "final_path = \"/Users/edlgg/repos/dissertation/midis/guitar_bass_filtered/\"\n",
    "multifilter(initial_path, final_path)"
   ]
  },
  {
   "cell_type": "code",
   "execution_count": 16,
   "metadata": {},
   "outputs": [
    {
     "name": "stdout",
     "output_type": "stream",
     "text": [
      "0\n",
      "100\n",
      "200\n",
      "300\n",
      "400\n",
      "500\n",
      "600\n",
      "700\n",
      "800\n",
      "900\n",
      "1000\n",
      "1100\n",
      "1200\n",
      "1300\n",
      "1400\n",
      "1500\n",
      "1600\n",
      "1700\n",
      "1800\n",
      "1900\n",
      "2000\n",
      "2100\n",
      "2200\n",
      "2300\n",
      "2400\n",
      "2500\n",
      "2600\n",
      "2700\n",
      "2800\n",
      "2900\n",
      "3000\n",
      ".DS_Store MThd not found. Probably not a MIDI file\n",
      "3100\n",
      "3200\n",
      "3300\n",
      "3400\n",
      "3500\n",
      "3600\n",
      "3700\n",
      "3800\n",
      "3900\n",
      "4000\n",
      "4100\n",
      "4200\n",
      "4300\n",
      "4400\n",
      "4500\n",
      "4600\n",
      "4700\n",
      "4800\n",
      "4900\n",
      "5000\n",
      "5100\n",
      "5200\n",
      "5300\n",
      "5400\n",
      "5500\n",
      "5600\n",
      "5700\n",
      "5800\n",
      "5900\n",
      "6000\n",
      "6100\n",
      "6200\n",
      "6300\n",
      "6400\n",
      "6500\n",
      "6600\n",
      "6700\n",
      "6800\n",
      "6900\n",
      "7000\n",
      "7100\n",
      "7200\n",
      "7300\n",
      "7400\n",
      "7500\n",
      "7600\n",
      "7700\n",
      "7800\n",
      "7900\n",
      "8000\n",
      "8100\n",
      "8200\n",
      "8300\n",
      "8400\n",
      "8500\n",
      "8600\n",
      "8700\n",
      "8800\n",
      "8900\n",
      "9000\n",
      "9100\n",
      "9200\n",
      "9300\n",
      "9400\n",
      "9500\n",
      "9600\n",
      "9700\n",
      "9800\n",
      "9900\n",
      "10000\n",
      "10100\n",
      "10200\n",
      "10300\n",
      "10400\n",
      "10500\n",
      "10600\n",
      "10700\n",
      "10800\n",
      "10900\n",
      "11000\n",
      "11100\n",
      "11200\n",
      "11300\n",
      "11400\n",
      "11500\n",
      "11600\n",
      "11700\n",
      "11800\n",
      "11900\n",
      "12000\n",
      "12100\n",
      "12200\n",
      "12300\n",
      "12400\n",
      "12500\n",
      "12600\n",
      "12700\n",
      "12800\n",
      "12900\n",
      "13000\n",
      "13100\n",
      "13200\n",
      "13300\n",
      "13400\n",
      "13500\n",
      "13600\n",
      "13700\n",
      "13800\n",
      "13900\n",
      "14000\n",
      "14100\n",
      "14200\n",
      "14300\n",
      "14400\n",
      "14500\n",
      "14600\n",
      "14700\n",
      "14800\n",
      "14900\n",
      "15000\n",
      "15100\n",
      "15200\n",
      "15300\n",
      "15400\n",
      "15500\n",
      "15600\n",
      "15700\n",
      "15800\n",
      "15900\n",
      "16000\n",
      "16100\n",
      "16200\n",
      "16300\n",
      "16400\n",
      "16500\n",
      "16600\n",
      "16700\n",
      "16800\n",
      "16900\n",
      "17000\n",
      "17100\n",
      "17200\n",
      "17300\n",
      "17400\n",
      "17500\n",
      "17600\n",
      "17700\n",
      "17800\n",
      "17900\n",
      "18000\n",
      "18100\n",
      "18200\n",
      "18300\n",
      "18400\n",
      "18500\n",
      "18600\n",
      "18700\n",
      "18800\n",
      "18900\n",
      "19000\n",
      "19100\n",
      "19200\n",
      "19300\n",
      "19400\n",
      "19500\n",
      "19600\n",
      "19700\n",
      "19800\n",
      "19900\n",
      "20000\n",
      "20100\n",
      "20200\n",
      "20300\n",
      "20400\n",
      "20500\n"
     ]
    }
   ],
   "source": [
    "#get_track_ins\n",
    "def clean_songs(initial_path, final_path):\n",
    "    i = 0\n",
    "    for _, _, filenames in os.walk(initial_path):\n",
    "        for filename in filenames:\n",
    "            try:\n",
    "                if i % 100 == 0:\n",
    "                    print(i)\n",
    "                i = i + 1\n",
    "                old_mid = mido.MidiFile(initial_path + filename)\n",
    "\n",
    "                track_one_type = get_track_instrument_type(old_mid.tracks[0])\n",
    "                guitar = None\n",
    "                bass = None\n",
    "                if track_one_type == \"Guitar\":\n",
    "                    guitar = old_mid.tracks[0]\n",
    "                    bass = old_mid.tracks[1]\n",
    "                else:\n",
    "                    guitar = old_mid.tracks[1]\n",
    "                    bass = old_mid.tracks[0]\n",
    "\n",
    "                new_guitar = mido.MidiTrack()\n",
    "                new_guitar.append(mido.Message('program_change', program=28, time=0))\n",
    "                for msg in guitar:\n",
    "                    if msg.type == \"note_on\":\n",
    "                        new_guitar.append(msg)\n",
    "\n",
    "                new_bass = mido.MidiTrack()\n",
    "                new_bass.append(mido.Message('program_change', program=35, time=0))\n",
    "                for msg in bass:\n",
    "                    if msg.type == \"note_on\":\n",
    "                        new_bass.append(msg)\n",
    "\n",
    "\n",
    "                new_mid = mido.MidiFile()\n",
    "                new_mid.tracks.append(new_guitar)\n",
    "                new_mid.tracks.append(new_bass)\n",
    "                new_mid.save(final_path + filename)\n",
    "                os.remove(initial_path + filename)\n",
    "            except Exception as e:\n",
    "                print(filename, e)\n",
    "            \n",
    "initial_path = \"/Users/edlgg/repos/dissertation/midis/guitar_bass_filtered/\"\n",
    "final_path = \"/Users/edlgg/repos/dissertation/midis/clean_songs/\"\n",
    "clean_songs(initial_path, final_path)"
   ]
  },
  {
   "cell_type": "code",
   "execution_count": null,
   "metadata": {},
   "outputs": [],
   "source": []
  }
 ],
 "metadata": {
  "kernelspec": {
   "display_name": "Python 3.7.4 64-bit ('dissertation': venv)",
   "language": "python",
   "name": "python37464bitdissertationvenv4d27c5bea19f4b9c854c53475dba7980"
  },
  "language_info": {
   "codemirror_mode": {
    "name": "ipython",
    "version": 3
   },
   "file_extension": ".py",
   "mimetype": "text/x-python",
   "name": "python",
   "nbconvert_exporter": "python",
   "pygments_lexer": "ipython3",
   "version": "3.7.4"
  }
 },
 "nbformat": 4,
 "nbformat_minor": 4
}
