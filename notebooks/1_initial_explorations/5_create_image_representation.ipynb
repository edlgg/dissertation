{
 "cells": [
  {
   "cell_type": "code",
   "execution_count": 1,
   "metadata": {
    "collapsed": true
   },
   "outputs": [],
   "source": [
    "from collections import Counter\n",
    "import mido\n",
    "import os\n",
    "import pandas\n",
    "from collections import Counter\n",
    "import operator\n",
    "\n",
    "\n",
    "def mido_setup():\n",
    "    mido.set_backend('mido.backends.rtmidi')\n",
    "    mido.open_output()\n",
    "    mido.open_output(name='foo', virtual=True)\n",
    "\n",
    "mido_setup()"
   ]
  },
  {
   "cell_type": "code",
   "execution_count": 2,
   "outputs": [],
   "source": [
    "jazz_large = '../../songs/large_db/jazz_kaggle/'\n",
    "jazz_small = '../../songs/large_db/jazz_kaggle_mini/'"
   ],
   "metadata": {
    "collapsed": false,
    "pycharm": {
     "name": "#%%\n"
    }
   }
  },
  {
   "cell_type": "code",
   "execution_count": null,
   "outputs": [],
   "source": [],
   "metadata": {
    "collapsed": false,
    "pycharm": {
     "name": "#%% i x\n"
    }
   }
  }
 ],
 "metadata": {
  "kernelspec": {
   "display_name": "Python 3",
   "language": "python",
   "name": "python3"
  },
  "language_info": {
   "codemirror_mode": {
    "name": "ipython",
    "version": 2
   },
   "file_extension": ".py",
   "mimetype": "text/x-python",
   "name": "python",
   "nbconvert_exporter": "python",
   "pygments_lexer": "ipython2",
   "version": "2.7.6"
  }
 },
 "nbformat": 4,
 "nbformat_minor": 0
}