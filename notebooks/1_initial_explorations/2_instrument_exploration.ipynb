{
 "cells": [
  {
   "cell_type": "code",
   "execution_count": 2,
   "outputs": [],
   "source": [
    "import mido\n",
    "from matplotlib import pyplot as plt"
   ],
   "metadata": {
    "collapsed": false,
    "pycharm": {
     "name": "#%%\n"
    }
   }
  },
  {
   "cell_type": "code",
   "execution_count": 3,
   "outputs": [],
   "source": [
    "mido.set_backend('mido.backends.rtmidi')\n",
    "outport = mido.open_output()\n",
    "port = mido.open_output(name='foo', virtual=True)"
   ],
   "metadata": {
    "collapsed": false,
    "pycharm": {
     "name": "#%%\n"
    }
   }
  },
  {
   "cell_type": "code",
   "execution_count": 3,
   "outputs": [],
   "source": [
    "love_me = mido.MidiFile('../../songs/small_db/Love_Me_Do.mid')"
   ],
   "metadata": {
    "collapsed": false,
    "pycharm": {
     "name": "#%%\n"
    }
   }
  },
  {
   "cell_type": "code",
   "execution_count": 4,
   "outputs": [],
   "source": [
    "mid = mido.MidiFile()\n",
    "mid.tracks.append(love_me.tracks[4])\n",
    "mid.ticks_per_beat = love_me.ticks_per_beat"
   ],
   "metadata": {
    "collapsed": false,
    "pycharm": {
     "name": "#%%\n"
    }
   }
  },
  {
   "cell_type": "code",
   "execution_count": 5,
   "outputs": [
    {
     "ename": "KeyboardInterrupt",
     "evalue": "",
     "output_type": "error",
     "traceback": [
      "\u001B[0;31m---------------------------------------------------------------------------\u001B[0m",
      "\u001B[0;31mKeyboardInterrupt\u001B[0m                         Traceback (most recent call last)",
      "\u001B[0;32m<ipython-input-5-851b7a53b414>\u001B[0m in \u001B[0;36m<module>\u001B[0;34m\u001B[0m\n\u001B[0;32m----> 1\u001B[0;31m \u001B[0;32mfor\u001B[0m \u001B[0mmsg\u001B[0m \u001B[0;32min\u001B[0m \u001B[0mlove_me\u001B[0m\u001B[0;34m.\u001B[0m\u001B[0mplay\u001B[0m\u001B[0;34m(\u001B[0m\u001B[0;34m)\u001B[0m\u001B[0;34m:\u001B[0m\u001B[0;34m\u001B[0m\u001B[0;34m\u001B[0m\u001B[0m\n\u001B[0m\u001B[1;32m      2\u001B[0m     \u001B[0mport\u001B[0m\u001B[0;34m.\u001B[0m\u001B[0msend\u001B[0m\u001B[0;34m(\u001B[0m\u001B[0mmsg\u001B[0m\u001B[0;34m)\u001B[0m\u001B[0;34m\u001B[0m\u001B[0;34m\u001B[0m\u001B[0m\n\u001B[1;32m      3\u001B[0m \u001B[0;34m\u001B[0m\u001B[0m\n",
      "\u001B[0;32m~/.virtualenvs/dissertation/lib/python3.7/site-packages/mido/midifiles/midifiles.py\u001B[0m in \u001B[0;36mplay\u001B[0;34m(self, meta_messages)\u001B[0m\n\u001B[1;32m    405\u001B[0m \u001B[0;34m\u001B[0m\u001B[0m\n\u001B[1;32m    406\u001B[0m         \u001B[0;32mfor\u001B[0m \u001B[0mmsg\u001B[0m \u001B[0;32min\u001B[0m \u001B[0mself\u001B[0m\u001B[0;34m:\u001B[0m\u001B[0;34m\u001B[0m\u001B[0;34m\u001B[0m\u001B[0m\n\u001B[0;32m--> 407\u001B[0;31m             \u001B[0msleep\u001B[0m\u001B[0;34m(\u001B[0m\u001B[0mmsg\u001B[0m\u001B[0;34m.\u001B[0m\u001B[0mtime\u001B[0m\u001B[0;34m)\u001B[0m\u001B[0;34m\u001B[0m\u001B[0;34m\u001B[0m\u001B[0m\n\u001B[0m\u001B[1;32m    408\u001B[0m \u001B[0;34m\u001B[0m\u001B[0m\n\u001B[1;32m    409\u001B[0m             \u001B[0;32mif\u001B[0m \u001B[0misinstance\u001B[0m\u001B[0;34m(\u001B[0m\u001B[0mmsg\u001B[0m\u001B[0;34m,\u001B[0m \u001B[0mMetaMessage\u001B[0m\u001B[0;34m)\u001B[0m \u001B[0;32mand\u001B[0m \u001B[0;32mnot\u001B[0m \u001B[0mmeta_messages\u001B[0m\u001B[0;34m:\u001B[0m\u001B[0;34m\u001B[0m\u001B[0;34m\u001B[0m\u001B[0m\n",
      "\u001B[0;31mKeyboardInterrupt\u001B[0m: "
     ]
    }
   ],
   "source": [
    "for msg in love_me.play():\n",
    "    port.send(msg)"
   ],
   "metadata": {
    "collapsed": false,
    "pycharm": {
     "name": "#%%\n"
    }
   }
  },
  {
   "cell_type": "code",
   "execution_count": 6,
   "outputs": [],
   "source": [
    "midi_path = \"../../midis/1_initial_explorations/2_instrument_exploration/\""
   ],
   "metadata": {
    "collapsed": false,
    "pycharm": {
     "name": "#%%\n"
    }
   }
  },
  {
   "cell_type": "code",
   "execution_count": 8,
   "outputs": [],
   "source": [
    "# What happens if i change times to 0\n",
    "mid.save(midi_path + 'love_me_program_normal_time.mid')\n",
    "for track in mid.tracks:\n",
    "    for msg in track:\n",
    "        if msg.type == 'note_on':\n",
    "            msg.time = 0\n",
    "\n",
    "mid.save(midi_path + 'love_me_program_0_time.mid')\n"
   ],
   "metadata": {
    "collapsed": false,
    "pycharm": {
     "name": "#%%\n"
    }
   }
  },
  {
   "cell_type": "code",
   "execution_count": 29,
   "outputs": [],
   "source": [
    "# mid.tracks[0][9].program = 10\n",
    "# mid.save(midi_path + 'love_me_program_10.mid')\n",
    "# mid.tracks[0][9].program = 30\n",
    "# mid.save(midi_path + 'love_me_program_30.mid')\n",
    "# mid.tracks[0][9].program = 50\n",
    "# mid.save(midi_path + 'love_me_program_50.mid')\n"
   ],
   "metadata": {
    "collapsed": false,
    "pycharm": {
     "name": "#%%\n"
    }
   }
  },
  {
   "cell_type": "code",
   "execution_count": 11,
   "outputs": [],
   "source": [
    "# What happens if I remove first track?\n",
    "love_me = mido.MidiFile('../../songs/small_db/Love_Me_Do.mid')\n",
    "love_me.save(midi_path + 'love_me_program_normal.mid')\n",
    "love_me.tracks = love_me.tracks[1:]\n",
    "love_me.save(midi_path + 'love_me_program_deleted_first_track.mid')"
   ],
   "metadata": {
    "collapsed": false,
    "pycharm": {
     "name": "#%%\n"
    }
   }
  },
  {
   "cell_type": "code",
   "execution_count": 23,
   "outputs": [
    {
     "name": "stdout",
     "output_type": "stream",
     "text": [
      "12\n",
      "1467\n",
      "1906\n",
      "1903\n",
      "1236\n",
      "2635\n",
      "147\n",
      "402\n",
      "1067\n",
      "4386\n",
      "1038\n",
      "1203\n"
     ]
    }
   ],
   "source": [
    "real = mido.MidiFile('../../songs/large_db/jazz_kaggle/AintNothingLikeRealThingBaby.mid')\n",
    "for track in real.tracks:\n",
    "    print(len(track))"
   ],
   "metadata": {
    "collapsed": false,
    "pycharm": {
     "name": "#%%\n"
    }
   }
  },
  {
   "cell_type": "code",
   "execution_count": 11,
   "outputs": [
    {
     "name": "stdout",
     "output_type": "stream",
     "text": [
      "228.0454699999996\n"
     ]
    }
   ],
   "source": [
    "song = mido.MidiFile('../../songs/large_db/jazz_kaggle/FillHerUp.mid')\n",
    "print(song.length)\n",
    "\n"
   ],
   "metadata": {
    "collapsed": false,
    "pycharm": {
     "name": "#%%\n"
    }
   }
  },
  {
   "cell_type": "code",
   "execution_count": null,
   "outputs": [],
   "source": [
    "\n"
   ],
   "metadata": {
    "collapsed": false,
    "pycharm": {
     "name": "#%%\n"
    }
   }
  }
 ],
 "metadata": {
  "language_info": {
   "codemirror_mode": {
    "name": "ipython",
    "version": 2
   },
   "file_extension": ".py",
   "mimetype": "text/x-python",
   "name": "python",
   "nbconvert_exporter": "python",
   "pygments_lexer": "ipython2",
   "version": "3.7.4-final"
  },
  "orig_nbformat": 2,
  "kernelspec": {
   "name": "python37464bitdissertationvenv4d27c5bea19f4b9c854c53475dba7980",
   "language": "python",
   "display_name": "Python 3.7.4 64-bit ('dissertation': venv)"
  }
 },
 "nbformat": 4,
 "nbformat_minor": 2
}