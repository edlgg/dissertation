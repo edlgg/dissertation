{
 "cells": [
  {
   "cell_type": "code",
   "execution_count": 2,
   "outputs": [],
   "source": [
    "import mido\n",
    "from matplotlib import pyplot as plt"
   ],
   "metadata": {
    "collapsed": false,
    "pycharm": {
     "name": "#%%\n"
    }
   }
  },
  {
   "cell_type": "code",
   "execution_count": 3,
   "outputs": [],
   "source": [
    "mido.set_backend('mido.backends.rtmidi')\n",
    "outport = mido.open_output()\n",
    "port = mido.open_output(name='foo', virtual=True)"
   ],
   "metadata": {
    "collapsed": false,
    "pycharm": {
     "name": "#%%\n"
    }
   }
  },
  {
   "cell_type": "code",
   "execution_count": 3,
   "outputs": [],
   "source": [
    "love_me = mido.MidiFile('../../songs/small_db/Love_Me_Do.mid')"
   ],
   "metadata": {
    "collapsed": false,
    "pycharm": {
     "name": "#%%\n"
    }
   }
  },
  {
   "cell_type": "code",
   "execution_count": 4,
   "outputs": [],
   "source": [
    "mid = mido.MidiFile()\n",
    "mid.tracks.append(love_me.tracks[4])\n",
    "mid.ticks_per_beat = love_me.ticks_per_beat"
   ],
   "metadata": {
    "collapsed": false,
    "pycharm": {
     "name": "#%%\n"
    }
   }
  },
  {
   "cell_type": "code",
   "execution_count": 5,
   "outputs": [
    {
     "ename": "KeyboardInterrupt",
     "evalue": "",
     "output_type": "error",
     "traceback": [
      "\u001B[0;31m---------------------------------------------------------------------------\u001B[0m",
      "\u001B[0;31mKeyboardInterrupt\u001B[0m                         Traceback (most recent call last)",
      "\u001B[0;32m<ipython-input-5-851b7a53b414>\u001B[0m in \u001B[0;36m<module>\u001B[0;34m\u001B[0m\n\u001B[0;32m----> 1\u001B[0;31m \u001B[0;32mfor\u001B[0m \u001B[0mmsg\u001B[0m \u001B[0;32min\u001B[0m \u001B[0mlove_me\u001B[0m\u001B[0;34m.\u001B[0m\u001B[0mplay\u001B[0m\u001B[0;34m(\u001B[0m\u001B[0;34m)\u001B[0m\u001B[0;34m:\u001B[0m\u001B[0;34m\u001B[0m\u001B[0;34m\u001B[0m\u001B[0m\n\u001B[0m\u001B[1;32m      2\u001B[0m     \u001B[0mport\u001B[0m\u001B[0;34m.\u001B[0m\u001B[0msend\u001B[0m\u001B[0;34m(\u001B[0m\u001B[0mmsg\u001B[0m\u001B[0;34m)\u001B[0m\u001B[0;34m\u001B[0m\u001B[0;34m\u001B[0m\u001B[0m\n\u001B[1;32m      3\u001B[0m \u001B[0;34m\u001B[0m\u001B[0m\n",
      "\u001B[0;32m~/.virtualenvs/dissertation/lib/python3.7/site-packages/mido/midifiles/midifiles.py\u001B[0m in \u001B[0;36mplay\u001B[0;34m(self, meta_messages)\u001B[0m\n\u001B[1;32m    405\u001B[0m \u001B[0;34m\u001B[0m\u001B[0m\n\u001B[1;32m    406\u001B[0m         \u001B[0;32mfor\u001B[0m \u001B[0mmsg\u001B[0m \u001B[0;32min\u001B[0m \u001B[0mself\u001B[0m\u001B[0;34m:\u001B[0m\u001B[0;34m\u001B[0m\u001B[0;34m\u001B[0m\u001B[0m\n\u001B[0;32m--> 407\u001B[0;31m             \u001B[0msleep\u001B[0m\u001B[0;34m(\u001B[0m\u001B[0mmsg\u001B[0m\u001B[0;34m.\u001B[0m\u001B[0mtime\u001B[0m\u001B[0;34m)\u001B[0m\u001B[0;34m\u001B[0m\u001B[0;34m\u001B[0m\u001B[0m\n\u001B[0m\u001B[1;32m    408\u001B[0m \u001B[0;34m\u001B[0m\u001B[0m\n\u001B[1;32m    409\u001B[0m             \u001B[0;32mif\u001B[0m \u001B[0misinstance\u001B[0m\u001B[0;34m(\u001B[0m\u001B[0mmsg\u001B[0m\u001B[0;34m,\u001B[0m \u001B[0mMetaMessage\u001B[0m\u001B[0;34m)\u001B[0m \u001B[0;32mand\u001B[0m \u001B[0;32mnot\u001B[0m \u001B[0mmeta_messages\u001B[0m\u001B[0;34m:\u001B[0m\u001B[0;34m\u001B[0m\u001B[0;34m\u001B[0m\u001B[0m\n",
      "\u001B[0;31mKeyboardInterrupt\u001B[0m: "
     ]
    }
   ],
   "source": [
    "for msg in love_me.play():\n",
    "    port.send(msg)"
   ],
   "metadata": {
    "collapsed": false,
    "pycharm": {
     "name": "#%%\n"
    }
   }
  },
  {
   "cell_type": "code",
   "execution_count": 15,
   "outputs": [],
   "source": [
    "midi_path = \"../../midis/1_initial_explorations/2_instrument_exploration/\""
   ],
   "metadata": {
    "collapsed": false,
    "pycharm": {
     "name": "#%%\n"
    }
   }
  },
  {
   "cell_type": "code",
   "execution_count": 8,
   "outputs": [],
   "source": [
    "# What happens if i change times to 0\n",
    "mid.save(midi_path + 'love_me_program_normal_time.mid')\n",
    "for track in mid.tracks:\n",
    "    for msg in track:\n",
    "        if msg.type == 'note_on':\n",
    "            msg.time = 0\n",
    "\n",
    "mid.save(midi_path + 'love_me_program_0_time.mid')\n"
   ],
   "metadata": {
    "collapsed": false,
    "pycharm": {
     "name": "#%%\n"
    }
   }
  },
  {
   "cell_type": "code",
   "execution_count": 29,
   "outputs": [],
   "source": [
    "# mid.tracks[0][9].program = 10\n",
    "# mid.save(midi_path + 'love_me_program_10.mid')\n",
    "# mid.tracks[0][9].program = 30\n",
    "# mid.save(midi_path + 'love_me_program_30.mid')\n",
    "# mid.tracks[0][9].program = 50\n",
    "# mid.save(midi_path + 'love_me_program_50.mid')\n"
   ],
   "metadata": {
    "collapsed": false,
    "pycharm": {
     "name": "#%%\n"
    }
   }
  },
  {
   "cell_type": "code",
   "execution_count": 11,
   "outputs": [],
   "source": [
    "# What happens if I remove first track?\n",
    "love_me = mido.MidiFile('../../songs/small_db/Love_Me_Do.mid')\n",
    "love_me.save(midi_path + 'love_me_program_normal.mid')\n",
    "love_me.tracks = love_me.tracks[1:]\n",
    "love_me.save(midi_path + 'love_me_program_deleted_first_track.mid')"
   ],
   "metadata": {
    "collapsed": false,
    "pycharm": {
     "name": "#%%\n"
    }
   }
  },
  {
   "cell_type": "code",
   "execution_count": 23,
   "outputs": [
    {
     "name": "stdout",
     "output_type": "stream",
     "text": [
      "12\n",
      "1467\n",
      "1906\n",
      "1903\n",
      "1236\n",
      "2635\n",
      "147\n",
      "402\n",
      "1067\n",
      "4386\n",
      "1038\n",
      "1203\n"
     ]
    }
   ],
   "source": [
    "real = mido.MidiFile('../../songs/large_db/jazz_kaggle/AintNothingLikeRealThingBaby.mid')\n",
    "for track in real.tracks:\n",
    "    print(len(track))"
   ],
   "metadata": {
    "collapsed": false,
    "pycharm": {
     "name": "#%%\n"
    }
   }
  },
  {
   "cell_type": "code",
   "execution_count": 11,
   "outputs": [
    {
     "name": "stdout",
     "output_type": "stream",
     "text": [
      "228.0454699999996\n"
     ]
    }
   ],
   "source": [
    "song = mido.MidiFile('../../songs/large_db/jazz_kaggle/FillHerUp.mid')\n",
    "print(song.length)\n",
    "\n"
   ],
   "metadata": {
    "collapsed": false,
    "pycharm": {
     "name": "#%%\n"
    }
   }
  },
  {
   "cell_type": "code",
   "execution_count": 3,
   "outputs": [
    {
     "name": "stdout",
     "output_type": "stream",
     "text": [
      "<midi track 'Love Me Do' 8 messages>\n",
      "<midi track 'Organ 3 Lead' 479 messages>\n",
      "<midi track 'Organ 3 Harmony' 182 messages>\n",
      "<midi track 'Harmonica' 568 messages>\n",
      "<midi track 'Nylon Gtr Bank 32' 4420 messages>\n",
      "<midi track 'Fretless Bass' 514 messages>\n",
      "<midi track 'Std Drums' 1496 messages>\n",
      "<midi track 'GS Reset SYX DWB' 5 messages>\n",
      "<midi track 'D.W.Barnes 5/6/95' 3 messages>\n",
      "<midi track 'Comments? ' 3 messages>\n",
      "<midi track 'DavidB7170@aol.com' 3 messages>\n"
     ]
    }
   ],
   "source": [
    "love_me = mido.MidiFile('../../songs/small_db/Love_Me_Do.mid')\n",
    "for track in love_me.tracks:\n",
    "    print(track)"
   ],
   "metadata": {
    "collapsed": false,
    "pycharm": {
     "name": "#%%\n"
    }
   }
  },
  {
   "cell_type": "code",
   "execution_count": 12,
   "outputs": [
    {
     "name": "stdout",
     "output_type": "stream",
     "text": [
      "<meta message track_name name='Organ 3 Lead' time=0>\n",
      "<meta message instrument_name name=' \"Please Please Me\"' time=0>\n",
      "<meta message midi_port port=0 time=0>\n",
      "control_change channel=0 control=7 value=120 time=96\n",
      "control_change channel=0 control=121 value=0 time=0\n",
      "control_change channel=0 control=10 value=54 time=1\n",
      "control_change channel=0 control=91 value=40 time=1\n",
      "control_change channel=0 control=93 value=64 time=1\n",
      "control_change channel=0 control=32 value=0 time=1\n",
      "control_change channel=0 control=0 value=0 time=0\n",
      "program_change channel=0 program=18 time=0\n",
      "note_on channel=0 note=74 velocity=120 time=3356\n",
      "note_on channel=0 note=74 velocity=0 time=191\n",
      "note_on channel=0 note=74 velocity=120 time=1\n",
      "note_on channel=0 note=74 velocity=0 time=95\n",
      "note_on channel=0 note=77 velocity=120 time=1\n",
      "note_on channel=0 note=77 velocity=0 time=63\n",
      "note_on channel=0 note=79 velocity=120 time=1\n",
      "note_on channel=0 note=79 velocity=0 time=127\n",
      "note_on channel=0 note=77 velocity=120 time=193\n",
      "note_on channel=0 note=77 velocity=0 time=95\n",
      "note_on channel=0 note=74 velocity=120 time=1\n",
      "note_on channel=0 note=74 velocity=0 time=191\n",
      "note_on channel=0 note=74 velocity=120 time=1\n",
      "note_on channel=0 note=74 velocity=0 time=95\n",
      "note_on channel=0 note=77 velocity=120 time=1\n",
      "note_on channel=0 note=77 velocity=0 time=63\n",
      "note_on channel=0 note=79 velocity=120 time=1\n",
      "note_on channel=0 note=79 velocity=0 time=127\n",
      "note_on channel=0 note=77 velocity=120 time=193\n",
      "note_on channel=0 note=77 velocity=0 time=95\n",
      "note_on channel=0 note=74 velocity=120 time=1\n",
      "note_on channel=0 note=74 velocity=0 time=191\n",
      "note_on channel=0 note=74 velocity=120 time=1\n",
      "note_on channel=0 note=74 velocity=0 time=95\n",
      "note_on channel=0 note=77 velocity=120 time=1\n",
      "note_on channel=0 note=77 velocity=0 time=63\n",
      "note_on channel=0 note=79 velocity=120 time=1\n",
      "note_on channel=0 note=79 velocity=0 time=127\n",
      "note_on channel=0 note=77 velocity=120 time=193\n",
      "note_on channel=0 note=77 velocity=0 time=95\n",
      "note_on channel=0 note=79 velocity=120 time=1\n",
      "note_on channel=0 note=79 velocity=0 time=191\n",
      "note_on channel=0 note=79 velocity=120 time=1\n",
      "note_on channel=0 note=79 velocity=0 time=95\n",
      "note_on channel=0 note=79 velocity=120 time=1\n",
      "note_on channel=0 note=79 velocity=0 time=95\n",
      "note_on channel=0 note=79 velocity=120 time=1\n",
      "note_on channel=0 note=79 velocity=0 time=447\n",
      "note_on channel=0 note=67 velocity=120 time=129\n",
      "note_on channel=0 note=67 velocity=0 time=95\n",
      "note_on channel=0 note=67 velocity=120 time=1\n",
      "note_on channel=0 note=67 velocity=0 time=95\n",
      "note_on channel=0 note=70 velocity=120 time=1\n",
      "note_on channel=0 note=70 velocity=0 time=63\n",
      "note_on channel=0 note=67 velocity=120 time=1\n",
      "note_on channel=0 note=67 velocity=0 time=319\n",
      "note_on channel=0 note=67 velocity=120 time=65\n",
      "note_on channel=0 note=67 velocity=0 time=31\n",
      "note_on channel=0 note=73 velocity=120 time=1\n",
      "note_on channel=0 note=73 velocity=0 time=63\n",
      "note_on channel=0 note=72 velocity=120 time=1\n",
      "note_on channel=0 note=72 velocity=0 time=95\n",
      "note_on channel=0 note=70 velocity=120 time=97\n",
      "note_on channel=0 note=70 velocity=0 time=95\n",
      "note_on channel=0 note=67 velocity=120 time=1\n",
      "note_on channel=0 note=67 velocity=0 time=95\n",
      "note_on channel=0 note=67 velocity=120 time=1\n",
      "note_on channel=0 note=67 velocity=0 time=223\n",
      "note_on channel=0 note=74 velocity=120 time=385\n",
      "note_on channel=0 note=74 velocity=0 time=191\n",
      "note_on channel=0 note=74 velocity=120 time=1\n",
      "note_on channel=0 note=74 velocity=0 time=95\n",
      "note_on channel=0 note=77 velocity=120 time=1\n",
      "note_on channel=0 note=77 velocity=0 time=63\n",
      "note_on channel=0 note=79 velocity=120 time=1\n",
      "note_on channel=0 note=79 velocity=0 time=127\n",
      "note_on channel=0 note=77 velocity=120 time=193\n",
      "note_on channel=0 note=77 velocity=0 time=95\n",
      "note_on channel=0 note=74 velocity=120 time=1\n",
      "note_on channel=0 note=74 velocity=0 time=191\n",
      "note_on channel=0 note=74 velocity=120 time=1\n",
      "note_on channel=0 note=74 velocity=0 time=95\n",
      "note_on channel=0 note=77 velocity=120 time=1\n",
      "note_on channel=0 note=77 velocity=0 time=63\n",
      "note_on channel=0 note=79 velocity=120 time=1\n",
      "note_on channel=0 note=79 velocity=0 time=127\n",
      "note_on channel=0 note=77 velocity=120 time=193\n",
      "note_on channel=0 note=77 velocity=0 time=95\n",
      "note_on channel=0 note=74 velocity=120 time=1\n",
      "note_on channel=0 note=74 velocity=0 time=191\n",
      "note_on channel=0 note=74 velocity=120 time=1\n",
      "note_on channel=0 note=74 velocity=0 time=95\n",
      "note_on channel=0 note=77 velocity=120 time=1\n",
      "note_on channel=0 note=77 velocity=0 time=63\n",
      "note_on channel=0 note=79 velocity=120 time=1\n",
      "note_on channel=0 note=79 velocity=0 time=127\n",
      "note_on channel=0 note=77 velocity=120 time=193\n",
      "note_on channel=0 note=77 velocity=0 time=95\n",
      "note_on channel=0 note=79 velocity=120 time=1\n",
      "note_on channel=0 note=79 velocity=0 time=191\n",
      "note_on channel=0 note=79 velocity=120 time=1\n",
      "note_on channel=0 note=79 velocity=0 time=95\n",
      "note_on channel=0 note=79 velocity=120 time=1\n",
      "note_on channel=0 note=79 velocity=0 time=95\n",
      "note_on channel=0 note=79 velocity=120 time=1\n",
      "note_on channel=0 note=79 velocity=0 time=447\n",
      "note_on channel=0 note=67 velocity=120 time=129\n",
      "note_on channel=0 note=67 velocity=0 time=95\n",
      "note_on channel=0 note=67 velocity=120 time=1\n",
      "note_on channel=0 note=67 velocity=0 time=95\n",
      "note_on channel=0 note=70 velocity=120 time=1\n",
      "note_on channel=0 note=70 velocity=0 time=63\n",
      "note_on channel=0 note=67 velocity=120 time=1\n",
      "note_on channel=0 note=67 velocity=0 time=319\n",
      "note_on channel=0 note=67 velocity=120 time=65\n",
      "note_on channel=0 note=67 velocity=0 time=31\n",
      "note_on channel=0 note=73 velocity=120 time=1\n",
      "note_on channel=0 note=73 velocity=0 time=63\n",
      "note_on channel=0 note=72 velocity=120 time=1\n",
      "note_on channel=0 note=72 velocity=0 time=95\n",
      "note_on channel=0 note=70 velocity=120 time=97\n",
      "note_on channel=0 note=70 velocity=0 time=95\n",
      "note_on channel=0 note=67 velocity=120 time=1\n",
      "note_on channel=0 note=67 velocity=0 time=95\n",
      "note_on channel=0 note=67 velocity=120 time=1\n",
      "note_on channel=0 note=67 velocity=0 time=223\n",
      "note_on channel=0 note=69 velocity=120 time=385\n",
      "note_on channel=0 note=69 velocity=0 time=191\n",
      "note_on channel=0 note=69 velocity=120 time=1\n",
      "note_on channel=0 note=69 velocity=0 time=95\n",
      "note_on channel=0 note=67 velocity=120 time=1\n",
      "note_on channel=0 note=67 velocity=0 time=95\n",
      "note_on channel=0 note=66 velocity=120 time=1\n",
      "note_on channel=0 note=66 velocity=0 time=287\n",
      "note_on channel=0 note=79 velocity=120 time=97\n",
      "note_on channel=0 note=79 velocity=0 time=191\n",
      "note_on channel=0 note=77 velocity=120 time=1\n",
      "note_on channel=0 note=77 velocity=0 time=95\n",
      "note_on channel=0 note=72 velocity=120 time=1\n",
      "note_on channel=0 note=72 velocity=0 time=95\n",
      "note_on channel=0 note=70 velocity=120 time=1\n",
      "note_on channel=0 note=70 velocity=0 time=95\n",
      "note_on channel=0 note=67 velocity=120 time=1\n",
      "note_on channel=0 note=67 velocity=0 time=191\n",
      "note_on channel=0 note=69 velocity=120 time=97\n",
      "note_on channel=0 note=69 velocity=0 time=191\n",
      "note_on channel=0 note=69 velocity=120 time=1\n",
      "note_on channel=0 note=69 velocity=0 time=95\n",
      "note_on channel=0 note=67 velocity=120 time=1\n",
      "note_on channel=0 note=67 velocity=0 time=95\n",
      "note_on channel=0 note=66 velocity=120 time=1\n",
      "note_on channel=0 note=66 velocity=0 time=287\n",
      "note_on channel=0 note=79 velocity=120 time=97\n",
      "note_on channel=0 note=79 velocity=0 time=191\n",
      "note_on channel=0 note=77 velocity=120 time=1\n",
      "note_on channel=0 note=77 velocity=0 time=95\n",
      "note_on channel=0 note=72 velocity=120 time=1\n",
      "note_on channel=0 note=72 velocity=0 time=95\n",
      "note_on channel=0 note=67 velocity=120 time=1\n",
      "note_on channel=0 note=67 velocity=0 time=95\n",
      "note_on channel=0 note=74 velocity=120 time=289\n",
      "note_on channel=0 note=74 velocity=0 time=191\n",
      "note_on channel=0 note=74 velocity=120 time=1\n",
      "note_on channel=0 note=74 velocity=0 time=95\n",
      "note_on channel=0 note=77 velocity=120 time=1\n",
      "note_on channel=0 note=77 velocity=0 time=63\n",
      "note_on channel=0 note=79 velocity=120 time=1\n",
      "note_on channel=0 note=79 velocity=0 time=127\n",
      "note_on channel=0 note=77 velocity=120 time=193\n",
      "note_on channel=0 note=77 velocity=0 time=95\n",
      "note_on channel=0 note=74 velocity=120 time=1\n",
      "note_on channel=0 note=74 velocity=0 time=191\n",
      "note_on channel=0 note=74 velocity=120 time=1\n",
      "note_on channel=0 note=74 velocity=0 time=95\n",
      "note_on channel=0 note=77 velocity=120 time=1\n",
      "note_on channel=0 note=77 velocity=0 time=63\n",
      "note_on channel=0 note=79 velocity=120 time=1\n",
      "note_on channel=0 note=79 velocity=0 time=127\n",
      "note_on channel=0 note=77 velocity=120 time=193\n",
      "note_on channel=0 note=77 velocity=0 time=95\n",
      "note_on channel=0 note=74 velocity=120 time=1\n",
      "note_on channel=0 note=74 velocity=0 time=191\n",
      "note_on channel=0 note=74 velocity=120 time=1\n",
      "note_on channel=0 note=74 velocity=0 time=95\n",
      "note_on channel=0 note=77 velocity=120 time=1\n",
      "note_on channel=0 note=77 velocity=0 time=63\n",
      "note_on channel=0 note=79 velocity=120 time=1\n",
      "note_on channel=0 note=79 velocity=0 time=127\n",
      "note_on channel=0 note=77 velocity=120 time=193\n",
      "note_on channel=0 note=77 velocity=0 time=95\n",
      "note_on channel=0 note=79 velocity=120 time=1\n",
      "note_on channel=0 note=79 velocity=0 time=191\n",
      "note_on channel=0 note=79 velocity=120 time=1\n",
      "note_on channel=0 note=79 velocity=0 time=95\n",
      "note_on channel=0 note=79 velocity=120 time=1\n",
      "note_on channel=0 note=79 velocity=0 time=95\n",
      "note_on channel=0 note=79 velocity=120 time=1\n",
      "note_on channel=0 note=79 velocity=0 time=447\n",
      "note_on channel=0 note=67 velocity=120 time=129\n",
      "note_on channel=0 note=67 velocity=0 time=95\n",
      "note_on channel=0 note=67 velocity=120 time=1\n",
      "note_on channel=0 note=67 velocity=0 time=95\n",
      "note_on channel=0 note=70 velocity=120 time=1\n",
      "note_on channel=0 note=70 velocity=0 time=63\n",
      "note_on channel=0 note=67 velocity=120 time=1\n",
      "note_on channel=0 note=67 velocity=0 time=319\n",
      "note_on channel=0 note=67 velocity=120 time=65\n",
      "note_on channel=0 note=67 velocity=0 time=31\n",
      "note_on channel=0 note=73 velocity=120 time=1\n",
      "note_on channel=0 note=73 velocity=0 time=63\n",
      "note_on channel=0 note=72 velocity=120 time=1\n",
      "note_on channel=0 note=72 velocity=0 time=95\n",
      "note_on channel=0 note=70 velocity=120 time=97\n",
      "note_on channel=0 note=70 velocity=0 time=95\n",
      "note_on channel=0 note=67 velocity=120 time=1\n",
      "note_on channel=0 note=67 velocity=0 time=95\n",
      "note_on channel=0 note=67 velocity=120 time=1\n",
      "note_on channel=0 note=67 velocity=0 time=223\n",
      "note_on channel=0 note=74 velocity=120 time=4993\n",
      "note_on channel=0 note=74 velocity=0 time=191\n",
      "note_on channel=0 note=74 velocity=120 time=1\n",
      "note_on channel=0 note=74 velocity=0 time=95\n",
      "note_on channel=0 note=77 velocity=120 time=1\n",
      "note_on channel=0 note=77 velocity=0 time=63\n",
      "note_on channel=0 note=79 velocity=120 time=1\n",
      "note_on channel=0 note=79 velocity=0 time=127\n",
      "note_on channel=0 note=77 velocity=120 time=193\n",
      "note_on channel=0 note=77 velocity=0 time=95\n",
      "note_on channel=0 note=74 velocity=120 time=1\n",
      "note_on channel=0 note=74 velocity=0 time=191\n",
      "note_on channel=0 note=74 velocity=120 time=1\n",
      "note_on channel=0 note=74 velocity=0 time=95\n",
      "note_on channel=0 note=77 velocity=120 time=1\n",
      "note_on channel=0 note=77 velocity=0 time=63\n",
      "note_on channel=0 note=79 velocity=120 time=1\n",
      "note_on channel=0 note=79 velocity=0 time=127\n",
      "note_on channel=0 note=77 velocity=120 time=193\n",
      "note_on channel=0 note=77 velocity=0 time=95\n",
      "note_on channel=0 note=74 velocity=120 time=1\n",
      "note_on channel=0 note=74 velocity=0 time=191\n",
      "note_on channel=0 note=74 velocity=120 time=1\n",
      "note_on channel=0 note=74 velocity=0 time=95\n",
      "note_on channel=0 note=77 velocity=120 time=1\n",
      "note_on channel=0 note=77 velocity=0 time=63\n",
      "note_on channel=0 note=79 velocity=120 time=1\n",
      "note_on channel=0 note=79 velocity=0 time=127\n",
      "note_on channel=0 note=77 velocity=120 time=193\n",
      "note_on channel=0 note=77 velocity=0 time=95\n",
      "note_on channel=0 note=79 velocity=120 time=1\n",
      "note_on channel=0 note=79 velocity=0 time=191\n",
      "note_on channel=0 note=79 velocity=120 time=1\n",
      "note_on channel=0 note=79 velocity=0 time=95\n",
      "note_on channel=0 note=79 velocity=120 time=1\n",
      "note_on channel=0 note=79 velocity=0 time=95\n",
      "note_on channel=0 note=79 velocity=120 time=1\n",
      "note_on channel=0 note=79 velocity=0 time=447\n",
      "note_on channel=0 note=67 velocity=120 time=129\n",
      "note_on channel=0 note=67 velocity=0 time=95\n",
      "note_on channel=0 note=67 velocity=120 time=1\n",
      "note_on channel=0 note=67 velocity=0 time=95\n",
      "note_on channel=0 note=70 velocity=120 time=1\n",
      "note_on channel=0 note=70 velocity=0 time=63\n",
      "note_on channel=0 note=67 velocity=120 time=1\n",
      "note_on channel=0 note=67 velocity=0 time=319\n",
      "note_on channel=0 note=67 velocity=120 time=65\n",
      "note_on channel=0 note=67 velocity=0 time=31\n",
      "note_on channel=0 note=73 velocity=120 time=1\n",
      "note_on channel=0 note=73 velocity=0 time=63\n",
      "note_on channel=0 note=72 velocity=120 time=1\n",
      "note_on channel=0 note=72 velocity=0 time=95\n",
      "note_on channel=0 note=70 velocity=120 time=97\n",
      "note_on channel=0 note=70 velocity=0 time=95\n",
      "note_on channel=0 note=67 velocity=120 time=1\n",
      "note_on channel=0 note=67 velocity=0 time=95\n",
      "note_on channel=0 note=67 velocity=120 time=1\n",
      "note_on channel=0 note=67 velocity=0 time=223\n",
      "note_on channel=0 note=79 velocity=120 time=161\n",
      "note_on channel=0 note=79 velocity=0 time=191\n",
      "note_on channel=0 note=82 velocity=120 time=1\n",
      "note_on channel=0 note=82 velocity=0 time=95\n",
      "note_on channel=0 note=79 velocity=120 time=1\n",
      "note_on channel=0 note=79 velocity=0 time=95\n",
      "note_on channel=0 note=79 velocity=120 time=1\n",
      "note_on channel=0 note=79 velocity=0 time=223\n",
      "note_on channel=0 note=67 velocity=120 time=65\n",
      "note_on channel=0 note=67 velocity=0 time=31\n",
      "note_on channel=0 note=74 velocity=120 time=1\n",
      "note_on channel=0 note=74 velocity=0 time=63\n",
      "note_on channel=0 note=72 velocity=120 time=1\n",
      "note_on channel=0 note=72 velocity=0 time=223\n",
      "note_on channel=0 note=70 velocity=120 time=1\n",
      "note_on channel=0 note=70 velocity=0 time=63\n",
      "note_on channel=0 note=67 velocity=120 time=1\n",
      "note_on channel=0 note=67 velocity=0 time=95\n",
      "note_on channel=0 note=67 velocity=120 time=1\n",
      "note_on channel=0 note=67 velocity=0 time=223\n",
      "note_on channel=0 note=79 velocity=120 time=161\n",
      "note_on channel=0 note=79 velocity=0 time=191\n",
      "note_on channel=0 note=82 velocity=120 time=1\n",
      "note_on channel=0 note=82 velocity=0 time=95\n",
      "note_on channel=0 note=79 velocity=120 time=1\n",
      "note_on channel=0 note=79 velocity=0 time=95\n",
      "note_on channel=0 note=79 velocity=120 time=1\n",
      "note_on channel=0 note=79 velocity=0 time=223\n",
      "control_change channel=0 control=7 value=120 time=1\n",
      "control_change channel=0 control=7 value=118 time=54\n",
      "note_on channel=0 note=67 velocity=120 time=10\n",
      "note_on channel=0 note=67 velocity=0 time=31\n",
      "note_on channel=0 note=74 velocity=120 time=1\n",
      "control_change channel=0 control=7 value=117 time=12\n",
      "note_on channel=0 note=74 velocity=0 time=51\n",
      "note_on channel=0 note=72 velocity=120 time=1\n",
      "control_change channel=0 control=7 value=116 time=1\n",
      "control_change channel=0 control=7 value=115 time=54\n",
      "control_change channel=0 control=7 value=114 time=54\n",
      "control_change channel=0 control=7 value=112 time=54\n",
      "control_change channel=0 control=7 value=111 time=53\n",
      "note_on channel=0 note=72 velocity=0 time=7\n",
      "note_on channel=0 note=70 velocity=120 time=1\n",
      "control_change channel=0 control=7 value=110 time=46\n",
      "note_on channel=0 note=70 velocity=0 time=17\n",
      "note_on channel=0 note=67 velocity=120 time=1\n",
      "control_change channel=0 control=7 value=109 time=36\n",
      "control_change channel=0 control=7 value=108 time=54\n",
      "note_on channel=0 note=67 velocity=0 time=5\n",
      "note_on channel=0 note=67 velocity=120 time=1\n",
      "control_change channel=0 control=7 value=106 time=47\n",
      "control_change channel=0 control=7 value=105 time=54\n",
      "control_change channel=0 control=7 value=104 time=54\n",
      "control_change channel=0 control=7 value=103 time=54\n",
      "note_on channel=0 note=67 velocity=0 time=14\n",
      "control_change channel=0 control=7 value=102 time=39\n",
      "control_change channel=0 control=7 value=100 time=54\n",
      "control_change channel=0 control=7 value=99 time=54\n",
      "note_on channel=0 note=79 velocity=120 time=14\n",
      "control_change channel=0 control=7 value=98 time=40\n",
      "control_change channel=0 control=7 value=97 time=53\n",
      "control_change channel=0 control=7 value=96 time=54\n",
      "note_on channel=0 note=79 velocity=0 time=44\n",
      "note_on channel=0 note=82 velocity=120 time=1\n",
      "control_change channel=0 control=7 value=94 time=9\n",
      "control_change channel=0 control=7 value=93 time=54\n",
      "note_on channel=0 note=82 velocity=0 time=32\n",
      "note_on channel=0 note=79 velocity=120 time=1\n",
      "control_change channel=0 control=7 value=92 time=20\n",
      "control_change channel=0 control=7 value=91 time=54\n",
      "note_on channel=0 note=79 velocity=0 time=21\n",
      "note_on channel=0 note=79 velocity=120 time=1\n",
      "control_change channel=0 control=7 value=90 time=32\n",
      "control_change channel=0 control=7 value=88 time=54\n",
      "control_change channel=0 control=7 value=87 time=53\n",
      "control_change channel=0 control=7 value=86 time=54\n",
      "note_on channel=0 note=79 velocity=0 time=30\n",
      "control_change channel=0 control=7 value=85 time=24\n",
      "note_on channel=0 note=67 velocity=120 time=41\n",
      "control_change channel=0 control=7 value=84 time=13\n",
      "note_on channel=0 note=67 velocity=0 time=18\n",
      "note_on channel=0 note=74 velocity=120 time=1\n",
      "control_change channel=0 control=7 value=82 time=34\n",
      "note_on channel=0 note=74 velocity=0 time=29\n",
      "note_on channel=0 note=72 velocity=120 time=1\n",
      "control_change channel=0 control=7 value=81 time=24\n",
      "control_change channel=0 control=7 value=80 time=54\n",
      "control_change channel=0 control=7 value=79 time=54\n",
      "control_change channel=0 control=7 value=78 time=53\n",
      "note_on channel=0 note=72 velocity=0 time=38\n",
      "note_on channel=0 note=70 velocity=120 time=1\n",
      "control_change channel=0 control=7 value=76 time=15\n",
      "note_on channel=0 note=70 velocity=0 time=48\n",
      "note_on channel=0 note=67 velocity=120 time=1\n",
      "control_change channel=0 control=7 value=75 time=5\n",
      "control_change channel=0 control=7 value=74 time=54\n",
      "note_on channel=0 note=67 velocity=0 time=36\n",
      "note_on channel=0 note=67 velocity=120 time=1\n",
      "control_change channel=0 control=7 value=73 time=16\n",
      "control_change channel=0 control=7 value=72 time=54\n",
      "control_change channel=0 control=7 value=70 time=54\n",
      "control_change channel=0 control=7 value=69 time=54\n",
      "note_on channel=0 note=67 velocity=0 time=45\n",
      "control_change channel=0 control=7 value=68 time=8\n",
      "control_change channel=0 control=7 value=67 time=54\n",
      "control_change channel=0 control=7 value=66 time=54\n",
      "note_on channel=0 note=79 velocity=120 time=45\n",
      "control_change channel=0 control=7 value=64 time=9\n",
      "control_change channel=0 control=7 value=63 time=53\n",
      "control_change channel=0 control=7 value=62 time=54\n",
      "control_change channel=0 control=7 value=61 time=54\n",
      "note_on channel=0 note=79 velocity=0 time=21\n",
      "note_on channel=0 note=82 velocity=120 time=1\n",
      "control_change channel=0 control=7 value=60 time=32\n",
      "control_change channel=0 control=7 value=58 time=53\n",
      "note_on channel=0 note=82 velocity=0 time=10\n",
      "note_on channel=0 note=79 velocity=120 time=1\n",
      "control_change channel=0 control=7 value=57 time=43\n",
      "note_on channel=0 note=79 velocity=0 time=52\n",
      "note_on channel=0 note=79 velocity=120 time=1\n",
      "control_change channel=0 control=7 value=56 time=1\n",
      "control_change channel=0 control=7 value=55 time=54\n",
      "control_change channel=0 control=7 value=54 time=53\n",
      "control_change channel=0 control=7 value=52 time=54\n",
      "control_change channel=0 control=7 value=51 time=54\n",
      "note_on channel=0 note=79 velocity=0 time=7\n",
      "control_change channel=0 control=7 value=50 time=47\n",
      "note_on channel=0 note=67 velocity=120 time=18\n",
      "note_on channel=0 note=67 velocity=0 time=31\n",
      "note_on channel=0 note=74 velocity=120 time=1\n",
      "control_change channel=0 control=7 value=49 time=3\n",
      "control_change channel=0 control=7 value=48 time=54\n",
      "note_on channel=0 note=74 velocity=0 time=6\n",
      "note_on channel=0 note=72 velocity=120 time=1\n",
      "control_change channel=0 control=7 value=46 time=47\n",
      "control_change channel=0 control=7 value=45 time=54\n",
      "control_change channel=0 control=7 value=44 time=53\n",
      "control_change channel=0 control=7 value=43 time=54\n",
      "note_on channel=0 note=72 velocity=0 time=15\n",
      "note_on channel=0 note=70 velocity=120 time=1\n",
      "control_change channel=0 control=7 value=42 time=38\n",
      "note_on channel=0 note=70 velocity=0 time=25\n",
      "note_on channel=0 note=67 velocity=120 time=1\n",
      "control_change channel=0 control=7 value=40 time=28\n",
      "control_change channel=0 control=7 value=39 time=53\n",
      "note_on channel=0 note=67 velocity=0 time=14\n",
      "note_on channel=0 note=67 velocity=120 time=1\n",
      "control_change channel=0 control=7 value=38 time=39\n",
      "control_change channel=0 control=7 value=37 time=54\n",
      "control_change channel=0 control=7 value=36 time=54\n",
      "control_change channel=0 control=7 value=34 time=53\n",
      "note_on channel=0 note=67 velocity=0 time=23\n",
      "control_change channel=0 control=7 value=33 time=31\n",
      "control_change channel=0 control=7 value=32 time=54\n",
      "control_change channel=0 control=7 value=31 time=54\n",
      "note_on channel=0 note=79 velocity=120 time=22\n",
      "control_change channel=0 control=7 value=30 time=31\n",
      "control_change channel=0 control=7 value=28 time=54\n",
      "control_change channel=0 control=7 value=27 time=54\n",
      "note_on channel=0 note=79 velocity=0 time=52\n",
      "note_on channel=0 note=82 velocity=120 time=1\n",
      "control_change channel=0 control=7 value=26 time=1\n",
      "control_change channel=0 control=7 value=25 time=53\n",
      "note_on channel=0 note=82 velocity=0 time=41\n",
      "note_on channel=0 note=79 velocity=120 time=1\n",
      "control_change channel=0 control=7 value=24 time=12\n",
      "control_change channel=0 control=7 value=22 time=54\n",
      "note_on channel=0 note=79 velocity=0 time=29\n",
      "note_on channel=0 note=79 velocity=120 time=1\n",
      "control_change channel=0 control=7 value=21 time=24\n",
      "control_change channel=0 control=7 value=20 time=53\n",
      "control_change channel=0 control=7 value=19 time=54\n",
      "control_change channel=0 control=7 value=18 time=54\n",
      "note_on channel=0 note=79 velocity=0 time=38\n",
      "control_change channel=0 control=7 value=16 time=16\n",
      "note_on channel=0 note=67 velocity=120 time=49\n",
      "control_change channel=0 control=7 value=15 time=4\n",
      "note_on channel=0 note=67 velocity=0 time=27\n",
      "note_on channel=0 note=74 velocity=120 time=1\n",
      "control_change channel=0 control=7 value=14 time=26\n",
      "note_on channel=0 note=74 velocity=0 time=37\n",
      "note_on channel=0 note=72 velocity=120 time=1\n",
      "control_change channel=0 control=7 value=13 time=16\n",
      "control_change channel=0 control=7 value=12 time=54\n",
      "control_change channel=0 control=7 value=10 time=53\n",
      "control_change channel=0 control=7 value=9 time=54\n",
      "note_on channel=0 note=72 velocity=0 time=46\n",
      "note_on channel=0 note=70 velocity=120 time=1\n",
      "control_change channel=0 control=7 value=8 time=7\n",
      "control_change channel=0 control=7 value=7 time=54\n",
      "note_on channel=0 note=70 velocity=0 time=2\n",
      "note_on channel=0 note=67 velocity=120 time=1\n",
      "control_change channel=0 control=7 value=6 time=50\n",
      "note_on channel=0 note=67 velocity=0 time=45\n",
      "note_on channel=0 note=67 velocity=120 time=1\n",
      "control_change channel=0 control=7 value=4 time=8\n",
      "control_change channel=0 control=7 value=3 time=54\n",
      "control_change channel=0 control=7 value=2 time=54\n",
      "control_change channel=0 control=7 value=1 time=53\n",
      "note_on channel=0 note=67 velocity=0 time=54\n",
      "control_change channel=0 control=7 value=0 time=0\n",
      "<meta message end_of_track time=0>\n"
     ]
    }
   ],
   "source": [
    "for msg in love_me.tracks[1]:\n",
    "    print(msg)"
   ],
   "metadata": {
    "collapsed": false,
    "pycharm": {
     "name": "#%%\n"
    }
   }
  },
  {
   "cell_type": "code",
   "execution_count": 10,
   "outputs": [
    {
     "name": "stdout",
     "output_type": "stream",
     "text": [
      "<class 'mido.midifiles.tracks.MidiTrack'>\n"
     ]
    }
   ],
   "source": [
    "track = love_me.tracks[0]\n",
    "\n",
    "mid_control = mido.MidiFile()\n",
    "mid_no_control = mido.MidiFile()\n",
    "\n",
    "track_control = mido.MidiTrack()\n",
    "track_no_control = mido.MidiTrack()\n",
    "\n",
    "mid_control.tracks.append(track_control)\n",
    "mid_no_control.tracks.append(track_no_control)\n",
    "\n",
    "\n",
    "# mid.save('new_song.mid')"
   ],
   "metadata": {
    "collapsed": false,
    "pycharm": {
     "name": "#%%\n"
    }
   }
  },
  {
   "cell_type": "code",
   "execution_count": 16,
   "outputs": [],
   "source": [
    "mid = mido.MidiFile()\n",
    "track = mido.MidiTrack()\n",
    "mid.tracks.append(track)\n",
    "\n",
    "track.append(mido.Message('program_change', program=12, time=0))\n",
    "track.append(mido.Message('note_on', note=64, velocity=0, time=32))\n",
    "\n",
    "mid.save(midi_path + 'note0vel.mid')"
   ],
   "metadata": {
    "collapsed": false,
    "pycharm": {
     "name": "#%%\n"
    }
   }
  },
  {
   "cell_type": "code",
   "execution_count": 61,
   "outputs": [],
   "source": [
    "mid = mido.MidiFile()\n",
    "track = mido.MidiTrack()\n",
    "mid.tracks.append(track)\n",
    "\n",
    "track.append(mido.Message('program_change', program=0, time=0))\n",
    "# track.append(mido.Message('note_on', note=75, velocity=120, time=100))\n",
    "track.append(mido.Message('note_on', note=75, velocity=70, time=3000))\n",
    "track.append(mido.Message('note_on', note=75, velocity=120, time=1000))\n",
    "track.append(mido.Message('note_on', note=75, velocity=120, time=100))\n",
    "track.append(mido.Message('note_on', note=75, velocity=120, time=3000))\n",
    "track.append(mido.Message('note_on', note=75, velocity=120, time=100))\n",
    "track.append(mido.Message('note_on', note=75, velocity=0, time=100))\n",
    "\n",
    "mid.save(midi_path + 'note120vel.mid')\n"
   ],
   "metadata": {
    "collapsed": false,
    "pycharm": {
     "name": "#%%\n"
    }
   }
  },
  {
   "cell_type": "code",
   "execution_count": null,
   "outputs": [],
   "source": [
    "\n"
   ],
   "metadata": {
    "collapsed": false,
    "pycharm": {
     "name": "#%%\n"
    }
   }
  }
 ],
 "metadata": {
  "language_info": {
   "codemirror_mode": {
    "name": "ipython",
    "version": 2
   },
   "file_extension": ".py",
   "mimetype": "text/x-python",
   "name": "python",
   "nbconvert_exporter": "python",
   "pygments_lexer": "ipython2",
   "version": "3.7.4-final"
  },
  "orig_nbformat": 2,
  "kernelspec": {
   "name": "python37464bitdissertationvenv4d27c5bea19f4b9c854c53475dba7980",
   "language": "python",
   "display_name": "Python 3.7.4 64-bit ('dissertation': venv)"
  }
 },
 "nbformat": 4,
 "nbformat_minor": 2
}