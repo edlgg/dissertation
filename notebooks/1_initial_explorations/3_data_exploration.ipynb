{
 "cells": [
  {
   "cell_type": "code",
   "execution_count": 1,
   "metadata": {
    "collapsed": true
   },
   "outputs": [],
   "source": [
    "from collections import Counter\n",
    "import mido\n",
    "import os\n",
    "import pandas\n",
    "\n",
    "\n",
    "def mido_setup():\n",
    "    mido.set_backend('mido.backends.rtmidi')\n",
    "    mido.open_output()\n",
    "    mido.open_output(name='foo', virtual=True)\n",
    "\n",
    "mido_setup()"
   ]
  },
  {
   "cell_type": "code",
   "execution_count": 2,
   "outputs": [
    {
     "data": {
      "text/plain": "True"
     },
     "execution_count": 2,
     "metadata": {},
     "output_type": "execute_result"
    }
   ],
   "source": [
    "def get_song_metadata(track):\n",
    "    tempo = -1\n",
    "    time_numerator = -1\n",
    "    time_denominator = -1\n",
    "    key = \"\"\n",
    "    for msg in track:\n",
    "        if msg.type == 'time_signature':\n",
    "            time_numerator = msg.numerator\n",
    "            time_denominator = msg.denominator\n",
    "        if msg.type == 'key_signature':\n",
    "            key = msg.key\n",
    "        if msg.type == 'set_tempo':\n",
    "            tempo = msg.tempo\n",
    "\n",
    "    return key, tempo, time_numerator, time_denominator\n",
    "\n",
    "def test_get_song_metadata():\n",
    "    real = mido.MidiFile('../../songs/large_db/jazz_kaggle/AintNothingLikeRealThingBaby.mid')\n",
    "    key, tempo, time_numerator, time_denominator = get_song_metadata(real.tracks[0])\n",
    "    if key != 'Eb' or tempo != 582524 or time_numerator != 4 or time_denominator != 4:\n",
    "        return False\n",
    "    return True\n",
    "\n",
    "test_get_song_metadata()"
   ],
   "metadata": {
    "collapsed": false,
    "pycharm": {
     "name": "#%%\n"
    }
   }
  },
  {
   "cell_type": "code",
   "execution_count": 3,
   "outputs": [
    {
     "data": {
      "text/plain": "True"
     },
     "execution_count": 3,
     "metadata": {},
     "output_type": "execute_result"
    }
   ],
   "source": [
    "def get_instrument_track_data(track):\n",
    "    instrument = -1\n",
    "    notes = []\n",
    "    durations = []\n",
    "    for msg in track:\n",
    "            if msg.type == 'program_change':\n",
    "                instrument = msg.program\n",
    "\n",
    "            if msg.type == 'note_on':\n",
    "                notes.append(msg.note)\n",
    "                durations.append(msg.time)\n",
    "    return instrument, notes, durations\n",
    "\n",
    "def test_get_instrument_track_data():\n",
    "    real = mido.MidiFile('../../songs/large_db/jazz_kaggle/AintNothingLikeRealThingBaby.mid')\n",
    "    track = real.tracks[1]\n",
    "    instrument, notes, durations = get_instrument_track_data(track)\n",
    "    if instrument == -1 or len(notes) == 0 or len(durations) == 0:\n",
    "        return False\n",
    "    return True\n",
    "\n",
    "test_get_instrument_track_data()"
   ],
   "metadata": {
    "collapsed": false,
    "pycharm": {
     "name": "#%%\n"
    }
   }
  },
  {
   "cell_type": "code",
   "execution_count": 4,
   "outputs": [
    {
     "data": {
      "text/plain": "True"
     },
     "execution_count": 4,
     "metadata": {},
     "output_type": "execute_result"
    }
   ],
   "source": [
    "def get_song_data(song):\n",
    "    if len(song.tracks) < 5 or len(song.tracks[0]) > 20:\n",
    "        #error\n",
    "            return -1, -1, -1, -1, -1, -1, -1, [], [], []\n",
    "\n",
    "    ticks_per_beat = song.ticks_per_beat\n",
    "    length = song.length\n",
    "    number_of_tracks = len(song.tracks)\n",
    "\n",
    "    key, tempo, time_numerator, time_denominator = get_song_metadata(song.tracks[0])\n",
    "\n",
    "    # get 4 most played instruments\n",
    "    tracks = song.tracks[1:]\n",
    "    tracks.sort(key = len, reverse=True)\n",
    "    tracks = tracks[:4]\n",
    "\n",
    "    instruments = []\n",
    "    notes = []\n",
    "    durations = []\n",
    "    for track in tracks:\n",
    "        instrument, n, d = get_instrument_track_data(track)\n",
    "        instruments.append(instrument)\n",
    "        notes = notes + n\n",
    "        durations = durations + d\n",
    "\n",
    "    repeats = []\n",
    "    for instrument in instruments:\n",
    "        if instrument not in instruments:\n",
    "            repeats.append(instrument)\n",
    "    all_instruments_different = False\n",
    "    if len(repeats) == 4:\n",
    "        all_instruments_different = True\n",
    "    return ticks_per_beat, length, number_of_tracks, key, tempo, time_numerator, time_denominator, instruments, all_instruments_different, notes, durations\n",
    "\n",
    "\n",
    "def test_get_song_data():\n",
    "    real = mido.MidiFile('../../songs/large_db/jazz_kaggle/AintNothingLikeRealThingBaby.mid')\n",
    "    data = get_song_data(real)\n",
    "    if data[0] == -1 or len(data[7]) == 0:\n",
    "        return False\n",
    "    return True\n",
    "test_get_song_data()"
   ],
   "metadata": {
    "collapsed": false,
    "pycharm": {
     "name": "#%%\n"
    }
   }
  },
  {
   "cell_type": "code",
   "execution_count": 5,
   "outputs": [],
   "source": [
    "def load_songs(path):\n",
    "    songs = []\n",
    "    for _, _, filenames in os.walk(path):\n",
    "        for filename in filenames:\n",
    "            try:\n",
    "                song = mido.MidiFile(path + filename)\n",
    "                print(\"Loading song: \" + filename)\n",
    "                songs.append(song)\n",
    "            except:\n",
    "                print(\"Error loading: \" + filename + \" will delete\")\n",
    "                os.remove(path + filename)\n",
    "    print(\"Done loading songs\")\n",
    "    return  songs"
   ],
   "metadata": {
    "collapsed": false,
    "pycharm": {
     "name": "#%%\n"
    }
   }
  },
  {
   "cell_type": "code",
   "execution_count": 6,
   "outputs": [
    {
     "name": "stdout",
     "output_type": "stream",
     "text": [
      "Loading song: GlasgowKiss.mid\n",
      "Loading song: Swear.mid\n",
      "Loading song: HowDoYouKeepTheMusicPlaying.mid\n",
      "Loading song: MessageOfLove.mid\n",
      "Loading song: Spiderman.mid\n",
      "Loading song: KnocksMeOffMyFeet.mid\n",
      "Loading song: Fallen.mid\n",
      "Loading song: JungiNishan.mid\n",
      "Loading song: Alone.mid\n",
      "Loading song: OnlyTheYoung.mid\n",
      "Loading song: Tracie.mid\n",
      "Loading song: AWomansWorth.mid\n",
      "Loading song: BetterDaysAhead.mid\n",
      "Loading song: MacktheKnife.mid\n",
      "Loading song: Chinatawn.mid\n",
      "Loading song: PutYourHandOnMyShoulder.mid\n",
      "Loading song: IllSaySheDoes.mid\n",
      "Loading song: LoveIsTheSeventhWave.mid\n",
      "Loading song: WhosSorryNow.mid\n",
      "Loading song: YoungAtHeart.mid\n",
      "Loading song: YoureGonnaBeSorry.mid\n",
      "Loading song: DamageControl.mid\n",
      "Loading song: WatermelonMan.mid\n",
      "Loading song: LilyWasHere.mid\n",
      "Loading song: Summerwind.mid\n",
      "Loading song: BeneathADesertMoon.mid\n",
      "Loading song: WednesdaysChild.mid\n",
      "Loading song: TheWayYouLookTonight.mid\n",
      "Loading song: SummerWine.mid\n",
      "Loading song: AllBlues.mid\n",
      "Loading song: MyWay.mid\n",
      "Loading song: IfIHadYou.mid\n",
      "Loading song: WayYouLookTonight.mid\n",
      "Loading song: ChildrenSay.mid\n",
      "Loading song: ForHeavensSake.mid\n",
      "Loading song: BabyComeToMe.mid\n",
      "Loading song: Youllneverfind.mid\n",
      "Loading song: Rawhide.mid\n",
      "Loading song: SoulMates.mid\n",
      "Loading song: SpiderFingers.mid\n",
      "Loading song: EtudeInAMinorOpus10No2.mid\n",
      "Loading song: BitterMoon.mid\n",
      "Loading song: Rumble.mid\n",
      "Loading song: 634-5789.mid\n",
      "Loading song: ImSoHappyICantStopCrying.mid\n",
      "Loading song: SomethingTheBoySaid.mid\n",
      "Loading song: CleanSweep.mid\n",
      "Loading song: BuglersDream.mid\n",
      "Loading song: Whispering.mid\n",
      "Loading song: ThisCowboySong.mid\n",
      "Loading song: AngelEyes.mid\n",
      "Loading song: TigerRag.mid\n",
      "Loading song: ItWasAVeryGoodYear.mid\n",
      "Loading song: BirthOfTheBlues.mid\n",
      "Loading song: AutumninNewYork.mid\n",
      "Loading song: LuckBeALady.mid\n",
      "Loading song: MysticDreamExercise.mid\n",
      "Loading song: Imagine.mid\n",
      "Loading song: FatherOblivion.mid\n",
      "Loading song: OhLadyBeGood.mid\n",
      "Loading song: ItMightBeYou.mid\n",
      "Loading song: ShesFunnyThatWay.mid\n",
      "Loading song: FreedoomOfSpeech.mid\n",
      "Loading song: YouDontKnowMyName.mid\n",
      "Loading song: AllOfMe.mid\n",
      "Loading song: ShiningStar.mid\n",
      "Loading song: Rise.mid\n",
      "Loading song: BrandNewDay.mid\n",
      "Loading song: SaveTheBestForLast.mid\n",
      "Loading song: YouAreTooBeautiful.mid\n",
      "Loading song: WhiterShadeOfPale.mid\n",
      "Loading song: Fantasy.mid\n",
      "Loading song: IsntSheLovely.mid\n",
      "Loading song: DontTakeYourLoveFromMe.mid\n",
      "Loading song: WheelintheSky.mid\n",
      "Loading song: InsidePicking.mid\n",
      "Loading song: GettinSentimentalOverYou.mid\n",
      "Loading song: AllofYou.mid\n",
      "Loading song: Decoy.mid\n",
      "Loading song: StoryOfTheBlues.mid\n",
      "Loading song: WereInThisLoveTogether.mid\n",
      "Loading song: FineBrownFrame.mid\n",
      "Loading song: HeardItThroughTheGrapevine.mid\n",
      "Loading song: NightOfTheSlunk.mid\n",
      "Loading song: ItsOnlyAPaperMoon.mid\n",
      "Loading song: SleepDirt(BlackNapkins).mid\n",
      "Loading song: AfterTheLoveHasGone.mid\n",
      "Loading song: TheyCantTakeThatAwayFromMe.mid\n",
      "Loading song: NoOneInTheWorld.mid\n",
      "Loading song: SomeoneThatIUsedToLove.mid\n",
      "Loading song: PahiloJunima.mid\n",
      "Loading song: BingeAndGrab.mid\n",
      "Loading song: AloneTogether.mid\n",
      "Loading song: StateOfGrace.mid\n",
      "Loading song: YouKnowImNoGood.mid\n",
      "Loading song: Aintchagottired.mid\n",
      "Loading song: Barfbag.mid\n",
      "Loading song: PinkCadalac.mid\n",
      "Loading song: ICantGiveYouAnythingButLove.mid\n",
      "Loading song: Afoggydayilondontown.mid\n",
      "Loading song: PutYourHeadOnMyShoulder.mid\n",
      "Loading song: PijadaaKoSuga.mid\n",
      "Loading song: NoOrdinaryLove.mid\n",
      "Loading song: KidCharlemagne.mid\n",
      "Loading song: Dreams.mid\n",
      "Loading song: Overjoy.mid\n",
      "Loading song: StopLookListenToYourHeart.mid\n",
      "Loading song: ACertainSmile.mid\n",
      "Loading song: WhatsAWoman.mid\n",
      "Loading song: Mordance.mid\n",
      "Loading song: Trambone.mid\n",
      "Loading song: MyCherieAmour.mid\n",
      "Loading song: MuffinMan.mid\n",
      "Loading song: LadyLove.mid\n",
      "Loading song: Swanee.mid\n",
      "Loading song: ChainOfFools.mid\n",
      "Loading song: HappyBirthday.mid\n",
      "Loading song: BothSidesNow.mid\n",
      "Loading song: DontEatTheYellowSnow.mid\n",
      "Loading song: Parelima.mid\n",
      "Loading song: EnterTheDragon.mid\n",
      "Loading song: ThatsWhatFriendsAreFor.mid\n",
      "Loading song: ChipBlue.mid\n",
      "Loading song: PassingThrough.mid\n",
      "Loading song: ChancesAre.mid\n",
      "Loading song: ILoveMyFriends.mid\n",
      "Loading song: MakingLove.mid\n",
      "Loading song: LongRace.mid\n",
      "Loading song: ChhaideuTimi.mid\n",
      "Loading song: WonderfulWonderful.mid\n",
      "Loading song: RibbonInTheSky.mid\n",
      "Loading song: StonedSoulPicnic.mid\n",
      "Loading song: Sambhodan.mid\n",
      "Loading song: AnimateInanimate.mid\n",
      "Loading song: AllIAskOfYou.mid\n",
      "Loading song: CindyOhCindy.mid\n",
      "Loading song: WhoCanITurnTo.mid\n",
      "Loading song: NearnessOfYou.mid\n",
      "Loading song: Daydream.mid\n",
      "Loading song: SalutetoNelsonRiddle.mid\n",
      "Loading song: BreezeAndI.mid\n",
      "Loading song: 55Dive.mid\n",
      "Loading song: Havona.mid\n",
      "Loading song: ThePartysOver.mid\n",
      "Loading song: GoingBackHome.mid\n",
      "Loading song: MoonOverBourbonStreet.mid\n",
      "Loading song: BoogieOnRaggaeWomen.mid\n",
      "Loading song: Foreplay.mid\n",
      "Loading song: Silhouette.mid\n",
      "Loading song: HelpMe.mid\n",
      "Loading song: TheSummerKnows.mid\n",
      "Loading song: EnglishManInNewYork.mid\n",
      "Loading song: IllTakeManhattan.mid\n",
      "Loading song: TheDeathlessHorsie.mid\n",
      "Loading song: Milestones.mid\n",
      "Loading song: MonaLisa.mid\n",
      "Loading song: MuskratRamble.mid\n",
      "Loading song: Sidewalk.mid\n",
      "Loading song: OhSherrie.mid\n",
      "Loading song: Bluesette.mid\n",
      "Loading song: Bebop.mid\n",
      "Loading song: LithiumSunset.mid\n",
      "Loading song: HesMisstraKnow-it-all.mid\n",
      "Loading song: DontknowMuch.mid\n",
      "Loading song: LostWithoutYou.mid\n",
      "Loading song: KingKongItself.mid\n",
      "Loading song: WhosCryinNow.mid\n",
      "Loading song: ARemarkYouMade.mid\n",
      "Loading song: DizzyFingers.mid\n",
      "Loading song: WalkOnBy.mid\n",
      "Loading song: DuneTune.mid\n",
      "Loading song: Evergreen.mid\n",
      "Loading song: LAigleNoir.mid\n",
      "Loading song: BobbyBrown.mid\n",
      "Loading song: AnotherDimension.mid\n",
      "Loading song: MyFathersShoes.mid\n",
      "Loading song: KissOfFire.mid\n",
      "Loading song: Karma.mid\n",
      "Loading song: WhenTheSaintsGoMarchingIn.mid\n",
      "Loading song: BlackFriday.mid\n",
      "Loading song: DeadMansRope.mid\n",
      "Loading song: ShapeOfMyHeart.mid\n",
      "Loading song: NanookRubsIt.mid\n",
      "Loading song: ThisMasquerade.mid\n",
      "Loading song: YouAreMyDestiny.mid\n",
      "Loading song: IllBeDoggone.mid\n",
      "Loading song: SilentNight.mid\n",
      "Loading song: NaturalElements.mid\n",
      "Loading song: ItsAllIntheGame.mid\n",
      "Loading song: Nepali.mid\n",
      "Loading song: TooLate.mid\n",
      "Loading song: Petrucciesque.mid\n",
      "Loading song: WalkAwayRenee.mid\n",
      "Loading song: OchiChornya.mid\n",
      "Loading song: BigYellowTaxi.mid\n",
      "Loading song: Witchcraft.mid\n",
      "Loading song: WalkintheSun.mid\n",
      "Loading song: WhyCantThisNightGoOnForever.mid\n",
      "Loading song: LookAtMe.mid\n",
      "Loading song: SevenStepstoHeaven.mid\n",
      "Loading song: LeftHandWarmUp.mid\n",
      "Loading song: CheekToCheek.mid\n",
      "Loading song: PlayingForTime.mid\n",
      "Loading song: BabylonSisters.mid\n",
      "Loading song: River.mid\n",
      "Loading song: MyMammy.mid\n",
      "Loading song: RubyBaby.mid\n",
      "Loading song: Inside.mid\n",
      "Loading song: BadGirlDolly.mid\n",
      "Loading song: WhyCantWeLiveTogether.mid\n",
      "Loading song: SomethingAboutYou.mid\n",
      "Loading song: YourSong.mid\n",
      "Loading song: YouDontKnowMe.mid\n",
      "Loading song: SomewhereOutThere.mid\n",
      "Loading song: ThatOldFeeling.mid\n",
      "Loading song: DancingOnTheCeiling.mid\n",
      "Loading song: CantGetUsedToLosingYou.mid\n",
      "Loading song: 5To10.mid\n",
      "Loading song: IllBeSeeingYou.mid\n",
      "Loading song: TakeALook.mid\n",
      "Loading song: HeresThatRainyDayAgain.mid\n",
      "Loading song: ElegantPeople.mid\n",
      "Loading song: CopperKettle.mid\n",
      "Loading song: Joshua.mid\n",
      "Loading song: TyoRatko.mid\n",
      "Loading song: Morning.mid\n",
      "Loading song: OnaClearDay.mid\n",
      "Loading song: Blows.mid\n",
      "Loading song: PinjadaKoSuga.mid\n",
      "Loading song: BlueberryHill.mid\n",
      "Loading song: SoulCages.mid\n",
      "Loading song: ThatsAll.mid\n",
      "Loading song: TwoSleepyPeople.mid\n",
      "Loading song: RedSailsInTheSunset.mid\n",
      "Loading song: ChinaDoll.mid\n",
      "Loading song: TwentyFiveToMidnight.mid\n",
      "Loading song: OneForMyBaby.mid\n",
      "Loading song: LoveIsStrongerThanJustice.mid\n",
      "Loading song: NutSundae.mid\n",
      "Loading song: WildWoodFlower.mid\n",
      "Loading song: SuicideIsPainless.mid\n",
      "Loading song: InMyWay.mid\n",
      "Loading song: BoogieWonderland.mid\n",
      "Loading song: WeWorkTheBlackSeam.mid\n",
      "Loading song: Cabaret.mid\n",
      "Loading song: DesertRose.mid\n",
      "Loading song: OverTheRainbow.mid\n",
      "Loading song: AllOverYou.mid\n",
      "Loading song: IveHeardThatSongBefore.mid\n",
      "Loading song: TheresaSmallHotel.mid\n",
      "Loading song: JungleBoogie.mid\n",
      "Loading song: TheHoundsOfWinter.mid\n",
      "Loading song: EasyToLove.mid\n",
      "Loading song: RoughBoys.mid\n",
      "Loading song: OnTheCase.mid\n",
      "Loading song: Nightfly.mid\n",
      "Loading song: Riderideride.mid\n",
      "Loading song: Exodus.mid\n",
      "Loading song: Alphonso.mid\n",
      "Loading song: OldPlayground.mid\n",
      "Loading song: FieldsOfGold.mid\n",
      "Loading song: BabyINeedYourLovin.mid\n",
      "Loading song: NumbNubs.mid\n",
      "Loading song: Differentdums.mid\n",
      "Loading song: SomewhereOverTheSlaughterhouse.mid\n",
      "Loading song: StLouisBlues.mid\n",
      "Loading song: LonelyBoy(ImJustA).mid\n",
      "Loading song: PinkCadillac.mid\n",
      "Loading song: BalladForKay.mid\n",
      "Loading song: Crazylittlethingcalllove.mid\n",
      "Loading song: Funkytown.mid\n",
      "Loading song: Yesterday.mid\n",
      "Loading song: GhostOfaChance.mid\n",
      "Loading song: Dying.mid\n",
      "Loading song: PrettyWoman.mid\n",
      "Loading song: WhatsNew.mid\n",
      "Loading song: IllNeverSmileAgain.mid\n",
      "Loading song: Guilty.mid\n",
      "Loading song: ZootAllures.mid\n",
      "Loading song: MakeLove.mid\n",
      "Loading song: MisterSandman.mid\n",
      "Loading song: OpenedTheDoor.mid\n",
      "Loading song: AlJolsonMedley.mid\n",
      "Loading song: HurtSoBad.mid\n",
      "Loading song: BeautifulGirl.mid\n",
      "Loading song: MoonlightinVermont.mid\n",
      "Loading song: Summertime.mid\n",
      "Loading song: HelloDolly.mid\n",
      "Loading song: ClearAsTheDark.mid\n",
      "Loading song: OneSummerNightInBrasil.mid\n",
      "Loading song: WhatsGoinOn.mid\n",
      "Loading song: ManhaDeCarnaval.mid\n",
      "Loading song: Aspen.mid\n",
      "Loading song: LoveGame.mid\n",
      "Loading song: KindredSpirits.mid\n",
      "Loading song: Koko.mid\n",
      "Loading song: TaxidermyLoaf.mid\n",
      "Loading song: GotToGetYouIntoMyLife.mid\n",
      "Loading song: Misty.mid\n",
      "Loading song: FreightTrain.mid\n",
      "Loading song: LookOutAnyWindow.mid\n",
      "Loading song: TakeFive.mid\n",
      "Loading song: ToBeWithYouAgain.mid\n",
      "Loading song: WhenWillIBeLoved.mid\n",
      "Loading song: Bodhisattva.mid\n",
      "Loading song: CachitoMioChacha.mid\n",
      "Loading song: GodBlessTheChild.mid\n",
      "Loading song: NeverFeltThisWay.mid\n",
      "Loading song: September.mid\n",
      "Loading song: StraightToMyHeart.mid\n",
      "Loading song: StandingInTheLight.mid\n",
      "Loading song: KissofLife.mid\n",
      "Loading song: OnBroadway.mid\n",
      "Loading song: DyingYoung.mid\n",
      "Loading song: Bumblebee.mid\n",
      "Loading song: TaketheAtrain.mid\n",
      "Loading song: InLoveAgain.mid\n",
      "Loading song: BrownEyedGirl.mid\n",
      "Loading song: Shecalledmebaby.mid\n",
      "Loading song: GiveItUp.mid\n",
      "Loading song: EbbTide.mid\n",
      "Loading song: ReachOut.mid\n",
      "Loading song: BeGoodToYourself.mid\n",
      "Loading song: SoWhat.mid\n",
      "Loading song: Sway.mid\n",
      "Loading song: Shadowboxer.mid\n",
      "Loading song: WelcomeToTheStJamesClub.mid\n",
      "Loading song: BirdLand.mid\n",
      "Loading song: AllMyLife.mid\n",
      "Loading song: Berlin.mid\n",
      "Loading song: JustTheSameWay.mid\n",
      "Loading song: LetYourSoulBeYourPilot.mid\n",
      "Loading song: IntotheMystic.mid\n",
      "Loading song: StandByMe.mid\n",
      "Loading song: PureAndEasy.mid\n",
      "Loading song: Tarantelle.mid\n",
      "Loading song: NightAndDay.mid\n",
      "Loading song: WhatKindOfFoolAmI.mid\n",
      "Loading song: TurnYourLoveAround.mid\n",
      "Loading song: OrangeColoredSky.mid\n",
      "Loading song: KillerFlaminBuddy.mid\n",
      "Loading song: OpenArms.mid\n",
      "Loading song: IndianSummer.mid\n",
      "Loading song: LoveIsALosingGame.mid\n",
      "Loading song: IveGotaCrushOnYou.mid\n",
      "Loading song: Amazinggrace.mid\n",
      "Loading song: UniversalMind.mid\n",
      "Loading song: TooTired.mid\n",
      "Loading song: Adayinalifeofafool.mid\n",
      "Loading song: ABC.mid\n",
      "Loading song: Emily.mid\n",
      "Loading song: NewPhunk.mid\n",
      "Loading song: mid\n",
      "Loading song: GirlFromIpanema.mid\n",
      "Loading song: Fable.mid\n",
      "Loading song: ColdDayInHell.mid\n",
      "Loading song: ThereWillNeverBeAnotherYou.mid\n",
      "Loading song: Aquarious.mid\n",
      "Loading song: CityofNewOrleans.mid\n",
      "Loading song: ShesTooGoodForMe.mid\n",
      "Loading song: SweetGeorgia.mid\n",
      "Loading song: StayAwhile.mid\n",
      "Loading song: UncleAl.mid\n",
      "Loading song: WheneverISayYourName.mid\n",
      "Loading song: Paladium.mid\n",
      "Loading song: Cascade.mid\n",
      "Loading song: Four.mid\n",
      "Loading song: HeyNineteen.mid\n",
      "Loading song: HowSweetItIsToBeLovedByYou.mid\n",
      "Loading song: AprilinParis.mid\n",
      "Loading song: AutumnLeaves(LesFeuillesMortes).mid\n",
      "Loading song: ShowGoesOn.mid\n",
      "Loading song: Lakai.mid\n",
      "Loading song: TunayNaMahal.mid\n",
      "Loading song: ImAFoolToWantYou.mid\n",
      "Loading song: EveryBreatheYouTake.mid\n",
      "Loading song: MakinWhoopie.mid\n",
      "Loading song: Guaranteed.mid\n",
      "Loading song: IslandOfSouls.mid\n",
      "Loading song: UncleMeat.mid\n",
      "Loading song: SecondMarriage.mid\n",
      "Loading song: Gemini.mid\n",
      "Loading song: BigTime.mid\n",
      "Loading song: Struttin.mid\n",
      "Loading song: LastNightIDidntGetToSleepAtAll.mid\n",
      "Loading song: ItsNotforMeToSay.mid\n",
      "Loading song: Fresh.mid\n",
      "Loading song: Blueocean.mid\n",
      "Loading song: WhereorWhen.mid\n",
      "Loading song: PeachesInRegalia.mid\n",
      "Loading song: SendYourLove.mid\n",
      "Loading song: BlueInGreen.mid\n",
      "Loading song: JustAGame.mid\n",
      "Loading song: JustBecause.mid\n",
      "Loading song: WatermelonInEasterHay.mid\n",
      "Loading song: DontRainOnMyParade.mid\n",
      "Loading song: RevengeWedge.mid\n",
      "Loading song: Children.mid\n",
      "Loading song: ContinentalWay.mid\n",
      "Loading song: FilingGood.mid\n",
      "Loading song: Dazzling.mid\n",
      "Loading song: Manhattan.mid\n",
      "Loading song: MantaMeroNepali.mid\n",
      "Loading song: Iwontdance.mid\n",
      "Loading song: ShutUpNPlayYerGuitarSomeMore.mid\n",
      "Loading song: SexualHealing.mid\n",
      "Loading song: BackhomeagaininIndiana.mid\n",
      "Loading song: Entertainer.mid\n",
      "Loading song: HarborLights.mid\n",
      "Loading song: HowHighTheMoon.mid\n",
      "Loading song: Everything.mid\n",
      "Loading song: CantTameTheLion.mid\n",
      "Loading song: RubyTuesday.mid\n",
      "Loading song: HeavenHelpUsAll.mid\n",
      "Loading song: TheseBootsWereMadeForWalking.mid\n",
      "Loading song: Hourglass.mid\n",
      "Loading song: OneDayYoullBeSorry.mid\n",
      "Loading song: Haventmetyouyet.mid\n",
      "Loading song: Superstitions.mid\n",
      "Loading song: FlyMeToTheMoon.mid\n",
      "Loading song: WhosCryingNow2.mid\n",
      "Loading song: Home.mid\n",
      "Loading song: HungryFreaksDaddy.mid\n",
      "Loading song: IntroMusic(FromRockDiscipline).mid\n",
      "Loading song: AKindOfTherapy.mid\n",
      "Loading song: CantHelpMyself.mid\n",
      "Loading song: DontYouWorryAboutaThing.mid\n",
      "Loading song: TheWayWeWere.mid\n",
      "Loading song: SomethingStupid.mid\n",
      "Loading song: Bewitched.mid\n",
      "Loading song: TwentySmallCigars.mid\n",
      "Loading song: AllTheThingsYouAre.mid\n",
      "Loading song: Tutu.mid\n",
      "Loading song: PowerRangersTheme.mid\n",
      "Loading song: RecordaMe.mid\n",
      "Loading song: Fragile.mid\n",
      "Loading song: Faithfully.mid\n",
      "Loading song: TheSecretMariage.mid\n",
      "Loading song: ThatsTheWayoftheWorld.mid\n",
      "Loading song: IGetaKickOutOfYou.mid\n",
      "Loading song: Sambodhan.mid\n",
      "Loading song: WhenWeDance.mid\n",
      "Loading song: Nancy.mid\n",
      "Loading song: IWasBroughtToMySenses.mid\n",
      "Loading song: AnotherDay.mid\n",
      "Loading song: HigherGround.mid\n",
      "Loading song: YaketyAxe.mid\n",
      "Loading song: James.mid\n",
      "Loading song: LessonsInLove.mid\n",
      "Loading song: FeelsLikeHome.mid\n",
      "Loading song: Marie-Mai-Encoreunenuit.mid\n",
      "Loading song: Imsorry.mid\n",
      "Loading song: Moondance.mid\n",
      "Loading song: SirDuke.mid\n",
      "Loading song: WishfulThinking.mid\n",
      "Loading song: BigSurMoon.mid\n",
      "Loading song: LadiesNight.mid\n",
      "Loading song: AfterTheRainHasFallen.mid\n",
      "Loading song: AutumnLeaves.mid\n",
      "Loading song: GlasgowKiss(Live).mid\n",
      "Loading song: SweetAndSimple.mid\n",
      "Loading song: UnePetiteCantate.mid\n",
      "Loading song: NothingGonnaChangeMyLove.mid\n",
      "Loading song: Russians.mid\n",
      "Loading song: CloseToYou.mid\n",
      "Loading song: MellowHombre.mid\n",
      "Loading song: EchidnasArf(OfYou).mid\n",
      "Loading song: InTheDawn.mid\n",
      "Loading song: FlyByNight.mid\n",
      "Loading song: Bernadette.mid\n",
      "Loading song: CosmicSquareDance.mid\n",
      "Loading song: SomeoneToWatchOverMe.mid\n",
      "Loading song: AllFourSeasons.mid\n",
      "Loading song: HollowYears.mid\n",
      "Loading song: Peanuts.mid\n",
      "Loading song: NicenEasy.mid\n",
      "Loading song: YouGoToMyHead.mid\n",
      "Loading song: BandofGold.mid\n",
      "Loading song: RoofGarden.mid\n",
      "Loading song: OhByJingoOhByGee.mid\n",
      "Loading song: TheTrailor.mid\n",
      "Loading song: IHungMyHead.mid\n",
      "Loading song: SinceIFellForYou.mid\n",
      "Loading song: StupidCupid.mid\n",
      "Loading song: GirlCantHelpIt.mid\n",
      "Loading song: CountryDoctor.mid\n",
      "Loading song: Atavachron.mid\n",
      "Loading song: EyesOfMind.mid\n",
      "Loading song: Montana.mid\n",
      "Loading song: SweetAboutMe.mid\n",
      "Loading song: DontDreamOfAnybodyButMe.mid\n",
      "Loading song: TheSunGoesDown.mid\n",
      "Loading song: SavetheLastDanceforme.mid\n",
      "Loading song: AllIDoIsDreamOfYou.mid\n",
      "Loading song: YouMakeMeFeelLike.mid\n",
      "Loading song: GoldenLady.mid\n",
      "Loading song: SaintAugustine.mid\n",
      "Loading song: DontWalkAwayInTheMusic.mid\n",
      "Loading song: LoveandMarriage.mid\n",
      "Loading song: CrazyLove.mid\n",
      "Loading song: WhenYouLoveAWoman.mid\n",
      "Loading song: MyGuitarWantsToKillYourMama.mid\n",
      "Loading song: DontStopBelievin.mid\n",
      "Loading song: I-5Binge.mid\n",
      "Loading song: SisireJhai.mid\n",
      "Loading song: OneAndOne.mid\n",
      "Loading song: Aquabot.mid\n",
      "Loading song: Celebration.mid\n",
      "Loading song: MissYouLikeCrazy.mid\n",
      "Loading song: ACrush.mid\n",
      "Loading song: 914.mid\n",
      "Loading song: TyoRaatKo.mid\n",
      "Loading song: RockIt.mid\n",
      "Loading song: PolkaDotsandMoonbeans.mid\n",
      "Loading song: BlackMountainRag.mid\n",
      "Loading song: JumpJiveAndWail.mid\n",
      "Loading song: RaptureofLove.mid\n",
      "Loading song: AroundTheWorld.mid\n",
      "Loading song: Music!Music!Music!.mid\n",
      "Loading song: IfIAintGotYou.mid\n",
      "Loading song: CentralParkWest.mid\n",
      "Loading song: PieceOfMyWish.mid\n",
      "Loading song: Valerie.mid\n",
      "Loading song: TheManILove.mid\n",
      "Loading song: Apostrophe.mid\n",
      "Loading song: Laura.mid\n",
      "Loading song: DreamALittleDream.mid\n",
      "Loading song: RockyTop.mid\n",
      "Loading song: BoogieDown.mid\n",
      "Loading song: WeddingBellBlues.mid\n",
      "Loading song: YouStillTouchMe.mid\n",
      "Loading song: Marie-Mai-Tutenfous.mid\n",
      "Loading song: AllThumb.mid\n",
      "Loading song: CountOnTheBlues.mid\n",
      "Loading song: Hollywood.mid\n",
      "Loading song: ALittleMarkMusic.mid\n",
      "Loading song: FreedomAtMidnight.mid\n",
      "Loading song: JoyofLife.mid\n",
      "Loading song: SongIsYou.mid\n",
      "Loading song: RioFunk.mid\n",
      "Loading song: Cherish.mid\n",
      "Loading song: Breezin.mid\n",
      "Loading song: Chameleon.mid\n",
      "Loading song: YoureAllINeedToGetBy.mid\n",
      "Loading song: AintNothingLikeRealThingBaby.mid\n",
      "Loading song: Solar.mid\n",
      "Loading song: AllBehindUsNow.mid\n",
      "Loading song: Dreamlover.mid\n",
      "Loading song: RestingPlace.mid\n",
      "Loading song: Stardust.mid\n",
      "Loading song: SendHerMyLove.mid\n",
      "Loading song: ButNotForMe.mid\n",
      "Loading song: YouDontKnowWhatLoveIs.mid\n",
      "Loading song: CherryPie.mid\n",
      "Loading song: Ebony&Ivory.mid\n",
      "Loading song: HideAway.mid\n",
      "Loading song: LoveStory.mid\n",
      "Loading song: LittleWing.mid\n",
      "Loading song: StoneyEnd.mid\n",
      "Loading song: JustAnotherDay.mid\n",
      "Loading song: HomeAtLast.mid\n",
      "Loading song: StAlfonzosPancakeBreakfast.mid\n",
      "Loading song: IJustCalledtoSayILoveYou.mid\n",
      "Loading song: LesFeuillesMortes.mid\n",
      "Loading song: FaceDancesPart2.mid\n",
      "Loading song: ThatsLife.mid\n",
      "Loading song: BlueRoom.mid\n",
      "Loading song: WonderfulWorld.mid\n",
      "Loading song: Think.mid\n",
      "Loading song: InMyLife.mid\n",
      "Loading song: MainStreetBreakdown.mid\n",
      "Loading song: StandingInTheShadowOfLove.mid\n",
      "Loading song: Moonriver.mid\n",
      "Loading song: HelloMyBaby.mid\n",
      "Loading song: TheLastFarewell.mid\n",
      "Loading song: Kilimanjaro.mid\n",
      "Loading song: TellHim.mid\n",
      "Loading song: Exercise.mid\n",
      "Loading song: SeparateWays.mid\n",
      "Loading song: OverTheWaves.mid\n",
      "Loading song: TalkoftheTown.mid\n",
      "Loading song: ImGettingSentimentalOverYou.mid\n",
      "Loading song: AThousandYears.mid\n",
      "Loading song: AintNoWomanLikeTheOneIGot.mid\n",
      "Loading song: SignedSealedDelivered.mid\n",
      "Loading song: Starchild.mid\n",
      "Loading song: ATimeForUs.mid\n",
      "Loading song: DolphinDreams.mid\n",
      "Loading song: WabashCannonBall.mid\n",
      "Loading song: MyPrayer.mid\n",
      "Loading song: RockDiscipline.mid\n",
      "Loading song: Charade.mid\n",
      "Loading song: BangBang(MyBabyShotMeDown).mid\n",
      "Loading song: Spain.mid\n",
      "Loading song: SamjhiBaschhu.mid\n",
      "Loading song: StoneInLove.mid\n",
      "Loading song: GoodEnough.mid\n",
      "Loading song: FM.mid\n",
      "Loading song: Cestmagnifique.mid\n",
      "Loading song: SomewhereMyLove.mid\n",
      "Loading song: ChickenFeed.mid\n",
      "Loading song: MandolinRain.mid\n",
      "Loading song: UncleRemus.mid\n",
      "Loading song: FoolsRushIn.mid\n",
      "Loading song: YouveChanged.mid\n",
      "Loading song: FeelingThatWay.mid\n",
      "Loading song: MrMelody.mid\n",
      "Loading song: WillowWeepForMe.mid\n",
      "Loading song: SugarloafExpress.mid\n",
      "Loading song: Respect.mid\n",
      "Loading song: OneMintJulep.mid\n",
      "Loading song: EndOfTheGame.mid\n",
      "Loading song: AllOrNothingAtAll.mid\n",
      "Loading song: AgeOfAquarius.mid\n",
      "Loading song: SmokeGetsInYourEyes.mid\n",
      "Loading song: TheWildWildSea.mid\n",
      "Loading song: BeforeThePardadePassesMeBy.mid\n",
      "Loading song: DriveIn.mid\n",
      "Loading song: ByYourSide.mid\n",
      "Loading song: TheBlueChipBop.mid\n",
      "Loading song: Yesterdays.mid\n",
      "Loading song: SweetLove.mid\n",
      "Loading song: Masquerade.mid\n",
      "Loading song: WhatSheReallyWants.mid\n",
      "Loading song: HowComeYouDontCallAnymore.mid\n",
      "Loading song: TuneUp.mid\n",
      "Loading song: EmptyRooms.mid\n",
      "Loading song: UptightEverythingsAlright.mid\n",
      "Loading song: Andy.mid\n",
      "Loading song: GiveMeTheNight.mid\n",
      "Loading song: SentimentalMood.mid\n",
      "Loading song: Songbird.mid\n",
      "Loading song: NothingBoutMe.mid\n",
      "Loading song: DayanaEspañolversion.mid\n",
      "Loading song: AllThisTime.mid\n",
      "Loading song: SweetestTaboo.mid\n",
      "Loading song: OneDay.mid\n",
      "Loading song: SmoothOperator.mid\n",
      "Loading song: StrangersInTheNight.mid\n",
      "Loading song: SiempreHayEsperanza.mid\n",
      "Loading song: NeverComingHome.mid\n",
      "Loading song: St.LouisBlues.mid\n",
      "Loading song: SpeedAndTechnique.mid\n",
      "Loading song: CityOfGoldLicks.mid\n",
      "Loading song: BiteOfTheMosquito.mid\n",
      "Loading song: PhaseDance.mid\n",
      "Loading song: SleepToDream.mid\n",
      "Loading song: SatinDoll.mid\n",
      "Loading song: ReelingInTheYears.mid\n",
      "Loading song: Necrominicon(Epilogue).mid\n",
      "Loading song: WalkBetweentheRaindrops.mid\n",
      "Loading song: DirtyLove.mid\n",
      "Loading song: WelcomeToBucketheadland.mid\n",
      "Loading song: Criminal.mid\n",
      "Loading song: Vincent.mid\n",
      "Loading song: IveNeverBeenInLoveBefore.mid\n",
      "Loading song: ConsiderMeGone.mid\n",
      "Loading song: MyOldFlame.mid\n",
      "Loading song: JasoGaraJeBhana.mid\n",
      "Loading song: WhenTheWaterBreaks.mid\n",
      "Loading song: VirtualReality.mid\n",
      "Loading song: YouAreTheSunshineOfMyLife.mid\n",
      "Loading song: Breathless.mid\n",
      "Loading song: Domino.mid\n",
      "Loading song: TroubleEveryDay.mid\n",
      "Loading song: WhyShouldICryForYou.mid\n",
      "Loading song: EarlyA.M.Attitude.mid\n",
      "Loading song: LightYear.mid\n",
      "Loading song: RiverRunsLow.mid\n",
      "Loading song: CruiseControl.mid\n",
      "Loading song: LovinAllNightLong.mid\n",
      "Loading song: ButBeautiful.mid\n",
      "Loading song: More.mid\n",
      "Loading song: GetDownOnIt.mid\n",
      "Loading song: Josie.mid\n",
      "Loading song: IveGotYouUnderMySkin.mid\n",
      "Loading song: MasterBlaster.mid\n",
      "Loading song: ParadigmShift.mid\n",
      "Loading song: SingASong.mid\n",
      "Loading song: Thatllbetheday.mid\n",
      "Loading song: ALittleIsEnough.mid\n",
      "Loading song: Letmetryagain.mid\n",
      "Loading song: StolenCar(TakeMeDancing).mid\n",
      "Loading song: YouDontBringMeFlowers.mid\n",
      "Loading song: SeparateWays2.mid\n",
      "Loading song: Love.mid\n",
      "Loading song: LocoInAcapulco1.mid\n",
      "Loading song: EastSt.LouisToodleOh.mid\n",
      "Loading song: TheWayItIs.mid\n",
      "Loading song: WhenAWoman.mid\n",
      "Loading song: WhereYouLead.mid\n",
      "Loading song: WorldMachine.mid\n",
      "Loading song: ItssoeasytofallinLove.mid\n",
      "Loading song: ScoopFromTheCoop.mid\n",
      "Loading song: TwoKids.mid\n",
      "Loading song: RomanticWarrior.mid\n",
      "Loading song: LoveIsStrongerThanPride.mid\n",
      "Loading song: MerryChristmasMr.Lawrence.mid\n",
      "Loading song: LetsMakeTheWaterTurnBlack.mid\n",
      "Loading song: FoggyDayinLondonTown.mid\n",
      "Loading song: WillieThePimp.mid\n",
      "Loading song: CherishTheDay.mid\n",
      "Loading song: InTheRain.mid\n",
      "Loading song: JumpMan.mid\n",
      "Loading song: JerrysBreakdown.mid\n",
      "Loading song: Ladyisatramp.mid\n",
      "Loading song: DaddyDontLiveInThatNewYorkCityNoMore.mid\n",
      "Loading song: BrownShoesDontMakeIt.mid\n",
      "Loading song: UpUpAndAway.mid\n",
      "Loading song: Moonlighting.mid\n",
      "Loading song: IllGetBy.mid\n",
      "Loading song: Pinocchio.mid\n",
      "Loading song: PackardGoose.mid\n",
      "Loading song: HoldOn.mid\n",
      "Loading song: onceuponatimeinspace.mid\n",
      "Loading song: WhenYoureAloneItAintEasy.mid\n",
      "Loading song: TheImpossibleDream.mid\n",
      "Loading song: OurLoveIsHereToStay.mid\n",
      "Loading song: YoullNeverFindAnotherLoveLikeMine.mid\n",
      "Loading song: YourLoveIsKing.mid\n",
      "Loading song: HeavyCloudsNoRain.mid\n",
      "Loading song: EndoftheInnocence.mid\n",
      "Loading song: SeeYouWhenIGetThere.mid\n",
      "Loading song: DeaconBlues.mid\n",
      "Loading song: LetsGrooveTonight.mid\n",
      "Loading song: Memory.mid\n",
      "Loading song: Paradise.mid\n",
      "Loading song: AtLast.mid\n",
      "Loading song: FridayOnMyMind.mid\n",
      "Loading song: DheraiDheraiAauncha.mid\n",
      "Loading song: SameOldSong.mid\n",
      "Loading song: ShelteringSky.mid\n",
      "Loading song: Maxine.mid\n",
      "Loading song: EastoftheSun.mid\n",
      "Loading song: LoveIsAllWeNeed.mid\n",
      "Loading song: SisterMoon.mid\n",
      "Loading song: BlackDiamond.mid\n",
      "Loading song: ParisienneWalkways.mid\n",
      "Loading song: Diana.mid\n",
      "Loading song: Feelings.mid\n",
      "Loading song: IShouldCare.mid\n",
      "Loading song: BibonoAozora.mid\n",
      "Loading song: Howcanyoumendabrokenheart.mid\n",
      "Loading song: NothingCanComeBetweenUs.mid\n",
      "Loading song: WhereIsTheLove.mid\n",
      "Loading song: LocoInAcapulco2.mid\n",
      "Loading song: Maybelle.mid\n",
      "Loading song: FireontheCross.mid\n",
      "Loading song: Valparaiso.mid\n",
      "Loading song: MrBojangles.mid\n",
      "Loading song: LoveInAPeacefulWorld.mid\n",
      "Loading song: MadAboutYou.mid\n",
      "Loading song: WellBeTogether.mid\n",
      "Loading song: ClassicalGas.mid\n",
      "Loading song: TheShadowofYourSmile.mid\n",
      "Loading song: MyOldSchool.mid\n",
      "Loading song: ICantGetStarted.mid.mid\n",
      "Loading song: Chromazone.mid\n",
      "Loading song: HotWater.mid\n",
      "Loading song: Unforgettable.mid\n",
      "Loading song: Teentown.mid\n",
      "Loading song: PeepShowBinge.mid\n",
      "Loading song: NyStateOfMind.mid\n",
      "Loading song: HowYaDoDat.mid\n",
      "Loading song: BlueBayou.mid\n",
      "Loading song: WomanInLove.mid\n",
      "Loading song: Adventage.mid\n",
      "Loading song: DoItAgain.mid\n",
      "Loading song: SecretLove.mid\n",
      "Loading song: WalkinByMyself.mid\n",
      "Loading song: OutOfReach.mid\n",
      "Loading song: StillGotTheBlues.mid\n",
      "Loading song: GhostStory.mid\n",
      "Loading song: ItsProbablyMe.mid\n",
      "Loading song: BrilliantBlues.mid\n",
      "Loading song: Avalon.mid\n",
      "Loading song: IWish.mid\n",
      "Loading song: Angela.mid\n",
      "Loading song: CannedHeat.mid\n",
      "Loading song: WhatAKindOfFool.mid\n",
      "Loading song: WhenYourLoverHasGone.mid\n",
      "Loading song: PretzalLogic.mid\n",
      "Loading song: DreamOfSirens.mid\n",
      "Loading song: IfYouLoveSomebodySetThemFree.mid\n",
      "Loading song: ItHadToBeYou.mid\n",
      "Loading song: SaraKhusi.mid\n",
      "Loading song: IConcentrateOnYou.mid\n",
      "Loading song: YankeeDoodleDixie.mid\n",
      "Loading song: SpinningWheel.mid\n",
      "Loading song: BackToBlack.mid\n",
      "Loading song: JoAnna.mid\n",
      "Loading song: ZorbaTheGreek.mid\n",
      "Loading song: ForOnceinMyLife.mid\n",
      "Loading song: TheyCantTakeAwayFromMe.mid\n",
      "Loading song: GiantRobotLesson.mid\n",
      "Loading song: Bluette.mid\n",
      "Loading song: AllMyTomorrows.mid\n",
      "Loading song: Flakes.mid\n",
      "Loading song: comeflywithme.mid\n",
      "Loading song: HogBitchStomp.mid\n",
      "Loading song: FillHerUp.mid\n",
      "Loading song: Phantasm.mid\n",
      "Loading song: Woodstock.mid\n",
      "Loading song: TheresOnlyOneWayToRock.mid\n",
      "Loading song: LaBelleDameSansRegrets.mid\n",
      "Loading song: YoursIsMyHeartAlone.mid\n",
      "Loading song: CitygateRumble.mid\n",
      "Loading song: People.mid\n",
      "Loading song: AllTheWay.mid\n",
      "Loading song: Epilogue.mid\n",
      "Loading song: Silence.mid\n",
      "Loading song: RoundMidnight.mid\n",
      "Loading song: MoreThanYouKnow.mid\n",
      "Loading song: WorkingMyWayBackToYou.mid\n",
      "Loading song: YoullNeverKnow.mid\n",
      "Loading song: Rehab.mid\n",
      "Loading song: FortressAroundYourHeart.mid\n",
      "Loading song: TheLoner.mid\n",
      "Loading song: BlueAngel.mid\n",
      "Loading song: Wheels.mid\n",
      "Loading song: Saxy.mid\n",
      "Loading song: KillingMeSoftly.mid\n",
      "Loading song: EveryLittleKiss.mid\n",
      "Loading song: IfIEverLoseMyFaithInYou.mid\n",
      "Loading song: EightyOne.mid\n",
      "Loading song: WeddingDressSong.mid\n",
      "Loading song: OrdinaryLove.mid\n",
      "Loading song: ImpossibleDream.mid\n",
      "Loading song: LookingUp.mid\n",
      "Loading song: TouristInParadise.mid\n",
      "Loading song: WhereItsAt.mid\n",
      "Loading song: RockA-ByeMyBaby.mid\n",
      "Loading song: Whitewash.mid\n",
      "Loading song: WildNights.mid\n",
      "Loading song: MidnightBlue.mid\n",
      "Loading song: Caravan.mid\n",
      "Loading song: Biaxident.mid\n",
      "Loading song: Somewhere.mid\n",
      "Loading song: CharliePuth.mid\n",
      "Loading song: ByMySide.mid\n",
      "Loading song: GabbyDance.mid\n",
      "Loading song: Peg.mid\n",
      "Loading song: TooHot.mid\n",
      "Loading song: SaltyDog.mid\n",
      "Loading song: LittleSunflower.mid\n",
      "Loading song: SongForBilao.mid\n",
      "Loading song: SeptemberSong.mid\n",
      "Loading song: PictureOfYou.mid\n",
      "Loading song: Asayake.mid\n",
      "Loading song: BehindClosedDoors.mid\n",
      "Loading song: ALittleBitofBlues.mid\n",
      "Loading song: Sentimental.mid\n",
      "Loading song: IveGotTheWorldOnAString.mid\n",
      "Loading song: TheyDanceAlone.mid\n",
      "Loading song: ColorsOfTheWind.mid\n",
      "Loading song: TheLegatoTechnique.mid\n",
      "Loading song: GoingHome.mid\n",
      "Loading song: Wobegon.mid\n",
      "Loading song: EverySummerNight.mid\n",
      "Loading song: ThatsAllGreatAmericanSongbook.mid\n",
      "Loading song: 2ndMovementOfSinisterFootwear.mid\n",
      "Loading song: YoureNobodyTillSomebodyLovesYou.mid\n",
      "Loading song: YouveMadeMeSoVeryHappy.mid\n",
      "Loading song: MovingViolation.mid\n",
      "Loading song: MoBetterBlues.mid\n",
      "Loading song: Vehicle.mid\n",
      "Loading song: IllBeAlrightWithoutYou.mid\n",
      "Loading song: NewStLeu.mid\n",
      "Loading song: TryALittleTenderness.mid\n",
      "Loading song: IBelieve.mid\n",
      "Loading song: NanookSuite.mid\n",
      "Loading song: RunningInTheFamily.mid\n",
      "Loading song: SevenDays.mid\n",
      "Loading song: Aja.mid\n",
      "Loading song: Faithfully2.mid\n",
      "Loading song: RikkiDontLoseThatNumber.mid\n",
      "Loading song: YoureNoGood.mid\n",
      "Loading song: Curve.mid\n",
      "Loading song: Nardis.mid\n",
      "Loading song: BlackPage.mid\n",
      "Loading song: WindyAndWarm.mid\n",
      "Loading song: AvenidaDelMar.mid\n",
      "Loading song: MyFunnyValentine.mid\n",
      "Loading song: AFifthofBeethoven.mid\n",
      "Loading song: LetMyLoveOpenTheDoor.mid\n",
      "Loading song: SaintAgnesandTheBlessingTrain.mid\n",
      "Loading song: JustOneKiss.mid\n",
      "Loading song: Sunshine.mid\n",
      "Loading song: LeavingMeNow.mid\n",
      "Loading song: DreamaLittleDreamofMe.mid\n",
      "Loading song: HappyDaysAreHereAgain.mid\n",
      "Loading song: Kissingafool.mid\n",
      "Loading song: ThemeFromLumpyGravy.mid\n",
      "Loading song: WhatsNewInBaltimore.mid\n",
      "Loading song: NewFrontier.mid\n",
      "Loading song: HahaHotel.mid\n",
      "Loading song: IGY.mid\n",
      "Loading song: MusictoWatchGirlsby.mid\n",
      "Loading song: StanderontheMountain.mid\n",
      "Loading song: GoodMorningHeartache.mid\n",
      "Loading song: BukasNaLangKitaMamahalin.mid\n",
      "Loading song: BlackMarket.mid\n",
      "Loading song: SundayMorning.mid\n",
      "Loading song: HearOnMyOwn.mid\n",
      "Loading song: SinceIDontHaveYou.mid\n",
      "Loading song: AllIEverNeedIsYou.mid\n",
      "Loading song: GoodbyeLook.mid\n",
      "Loading song: Invitation.mid\n",
      "Loading song: ItsOver.mid\n",
      "Done loading songs\n"
     ]
    }
   ],
   "source": [
    "jazz_songs_path = '../../songs/large_db/jazz_kaggle/'\n",
    "songs = load_songs(jazz_songs_path)"
   ],
   "metadata": {
    "collapsed": false,
    "pycharm": {
     "name": "#%%\n"
    }
   }
  },
  {
   "cell_type": "code",
   "execution_count": 7,
   "outputs": [
    {
     "name": "stdout",
     "output_type": "stream",
     "text": [
      "-1 999\n"
     ]
    }
   ],
   "source": [
    "def get_lowest_and_highest_note(songs):\n",
    "    min = -1\n",
    "    max = 999\n",
    "    for song in songs:\n",
    "        for track in song.tracks:\n",
    "            for msg in track:\n",
    "                if msg.type == \"note_on\":\n",
    "                    if msg.note < min:\n",
    "                        min = msg.note\n",
    "                    if msg.note > max:\n",
    "                        max = msg.note\n",
    "    return min, max\n",
    "\n",
    "min, max = get_lowest_and_highest_note(songs)\n",
    "print(min, max)"
   ],
   "metadata": {
    "collapsed": false,
    "pycharm": {
     "name": "#%%\n"
    }
   }
  },
  {
   "cell_type": "code",
   "execution_count": 15,
   "outputs": [],
   "source": [
    "def get_song_times(songs):\n",
    "    times = []\n",
    "    for song in songs:\n",
    "        for track in song.tracks:\n",
    "            time = 480\n",
    "            for msg in track:\n",
    "                if msg.type == \"note_on\":\n",
    "                    time = time + msg.time\n",
    "            if time > 5000:\n",
    "                times.append(time)\n",
    "    return times\n",
    "\n",
    "times = get_song_times(songs)"
   ],
   "metadata": {
    "collapsed": false,
    "pycharm": {
     "name": "#%%\n"
    }
   }
  },
  {
   "cell_type": "code",
   "execution_count": 16,
   "outputs": [
    {
     "name": "stdout",
     "output_type": "stream",
     "text": [
      "112622.86646016176\n",
      "380870.1091142851\n"
     ]
    }
   ],
   "source": [
    "import statistics\n",
    "print(sum(times)/len(times))\n",
    "print(statistics.stdev(times))"
   ],
   "metadata": {
    "collapsed": false,
    "pycharm": {
     "name": "#%%\n"
    }
   }
  },
  {
   "cell_type": "code",
   "execution_count": 13,
   "outputs": [
    {
     "data": {
      "text/plain": "<matplotlib.axes._subplots.AxesSubplot at 0x1ce4b9d10>"
     },
     "execution_count": 13,
     "metadata": {},
     "output_type": "execute_result"
    },
    {
     "data": {
      "text/plain": "<Figure size 432x288 with 1 Axes>",
      "image/png": "[encoded data removed]"
     },
     "metadata": {
      "needs_background": "light"
     },
     "output_type": "display_data"
    }
   ],
   "source": [
    "times.sort()\n",
    "count = Counter(times)\n",
    "df = pandas.DataFrame.from_dict(count, orient='index')\n",
    "df.plot(kind='bar', title='Notes')"
   ],
   "metadata": {
    "collapsed": false,
    "pycharm": {
     "name": "#%%\n"
    }
   }
  },
  {
   "cell_type": "code",
   "execution_count": 7,
   "outputs": [],
   "source": [
    "def get_songs_data(songs):\n",
    "    ticks_per_bit = []\n",
    "    lengths = []\n",
    "    number_of_tracks = []\n",
    "    keys = []\n",
    "    tempos = []\n",
    "    time_numerators = []\n",
    "    time_denominators = []\n",
    "    instruments = []\n",
    "    notes = []\n",
    "    notes_per_song = []\n",
    "    durations = []\n",
    "\n",
    "    counter = 0\n",
    "    errors = 0\n",
    "    for song in songs:\n",
    "        counter = counter + 1\n",
    "        if counter % 50 == 0:\n",
    "            print(str(counter) + \"/\" + str(len(songs)))\n",
    "        try:\n",
    "            tpb, length, noT, key, tempo, time_numerator, time_denominator, instrs, all_instruments_different, nts, durs = get_song_data(song)\n",
    "            if tpb == -1 and length == -1 and len(instrs) == 0:\n",
    "                    raise ValueError('Failed to load song')\n",
    "            ticks_per_bit.append(tpb)\n",
    "            lengths.append(length)\n",
    "            number_of_tracks.append(noT)\n",
    "            keys.append(key)\n",
    "            tempos.append(tempo)\n",
    "            time_numerators.append(time_numerators)\n",
    "            time_denominators.append(time_denominators)\n",
    "            instruments = instruments + instrs\n",
    "            notes = notes + nts\n",
    "            notes_per_song.append(len(nts))\n",
    "            durations = durations + durs\n",
    "        except:\n",
    "            errors = errors + 1\n",
    "\n",
    "    print(\"Done. Errors: \" + str(errors))\n",
    "    return ticks_per_bit, lengths, number_of_tracks, keys, tempos, time_numerators, time_denominators, instruments, notes, notes_per_song, durations\n"
   ],
   "metadata": {
    "collapsed": false,
    "pycharm": {
     "name": "#%%\n"
    }
   }
  },
  {
   "cell_type": "code",
   "execution_count": 8,
   "outputs": [
    {
     "name": "stdout",
     "output_type": "stream",
     "text": [
      "50/910\n",
      "100/910\n",
      "150/910\n",
      "200/910\n",
      "250/910\n",
      "300/910\n",
      "350/910\n",
      "400/910\n",
      "450/910\n",
      "500/910\n",
      "550/910\n",
      "600/910\n",
      "650/910\n",
      "700/910\n",
      "750/910\n",
      "800/910\n",
      "850/910\n",
      "900/910\n",
      "Done. Errors: 447\n"
     ]
    }
   ],
   "source": [
    "ticks_per_bit, lengths, number_of_tracks, keys, tempos, time_numerators, time_denominators, instruments, notes, notes_per_song, durations = get_songs_data(songs)\n",
    "del songs"
   ],
   "metadata": {
    "collapsed": false,
    "pycharm": {
     "name": "#%%\n"
    }
   }
  },
  {
   "cell_type": "code",
   "execution_count": 35,
   "outputs": [
    {
     "data": {
      "text/plain": "<matplotlib.axes._subplots.AxesSubplot at 0x143daa210>"
     },
     "execution_count": 35,
     "metadata": {},
     "output_type": "execute_result"
    },
    {
     "data": {
      "text/plain": "<Figure size 432x288 with 1 Axes>",
      "image/png": "[encoded data removed]"
     },
     "metadata": {
      "needs_background": "light"
     },
     "output_type": "display_data"
    }
   ],
   "source": [
    "count = Counter(ticks_per_bit)\n",
    "df = pandas.DataFrame.from_dict(count, orient='index')\n",
    "df.plot(kind='bar', title='Ticks per beat')"
   ],
   "metadata": {
    "collapsed": false,
    "pycharm": {
     "name": "#%%\n"
    }
   }
  },
  {
   "cell_type": "code",
   "execution_count": 36,
   "outputs": [
    {
     "data": {
      "text/plain": "<matplotlib.axes._subplots.AxesSubplot at 0x150200410>"
     },
     "execution_count": 36,
     "metadata": {},
     "output_type": "execute_result"
    },
    {
     "data": {
      "text/plain": "<Figure size 432x288 with 1 Axes>",
      "image/png": "[encoded data removed]"
     },
     "metadata": {
      "needs_background": "light"
     },
     "output_type": "display_data"
    }
   ],
   "source": [
    "count = Counter(lengths)\n",
    "df = pandas.DataFrame.from_dict(count, orient='index')\n",
    "df.plot(kind='bar', title='Lengths')"
   ],
   "metadata": {
    "collapsed": false,
    "pycharm": {
     "name": "#%% error\n"
    }
   }
  },
  {
   "cell_type": "code",
   "execution_count": 37,
   "outputs": [
    {
     "data": {
      "text/plain": "<matplotlib.axes._subplots.AxesSubplot at 0x128f95450>"
     },
     "execution_count": 37,
     "metadata": {},
     "output_type": "execute_result"
    },
    {
     "data": {
      "text/plain": "<Figure size 432x288 with 1 Axes>",
      "image/png": "[encoded data removed]"
     },
     "metadata": {
      "needs_background": "light"
     },
     "output_type": "display_data"
    }
   ],
   "source": [
    "count = Counter(number_of_tracks)\n",
    "df = pandas.DataFrame.from_dict(count, orient='index')\n",
    "df.plot(kind='bar', title='Number of Tracks')\n"
   ],
   "metadata": {
    "collapsed": false,
    "pycharm": {
     "name": "#%%\n"
    }
   }
  },
  {
   "cell_type": "code",
   "execution_count": 38,
   "outputs": [
    {
     "data": {
      "text/plain": "<matplotlib.axes._subplots.AxesSubplot at 0x157c90790>"
     },
     "execution_count": 38,
     "metadata": {},
     "output_type": "execute_result"
    },
    {
     "data": {
      "text/plain": "<Figure size 432x288 with 1 Axes>",
      "image/png": "[encoded data removed]"
     },
     "metadata": {
      "needs_background": "light"
     },
     "output_type": "display_data"
    }
   ],
   "source": [
    "count = Counter(keys)\n",
    "df = pandas.DataFrame.from_dict(count, orient='index')\n",
    "df.plot(kind='bar', title='Keys')\n"
   ],
   "metadata": {
    "collapsed": false,
    "pycharm": {
     "name": "#%%\n"
    }
   }
  },
  {
   "cell_type": "code",
   "execution_count": 39,
   "outputs": [
    {
     "data": {
      "text/plain": "<matplotlib.axes._subplots.AxesSubplot at 0x157fd8090>"
     },
     "execution_count": 39,
     "metadata": {},
     "output_type": "execute_result"
    },
    {
     "data": {
      "text/plain": "<Figure size 432x288 with 1 Axes>",
      "image/png": "[encoded data removed]"
     },
     "metadata": {
      "needs_background": "light"
     },
     "output_type": "display_data"
    }
   ],
   "source": [
    "count = Counter(tempos)\n",
    "df = pandas.DataFrame.from_dict(count, orient='index')\n",
    "df.plot(kind='bar', title='Tempos')"
   ],
   "metadata": {
    "collapsed": false,
    "pycharm": {
     "name": "#%% default 500000\n"
    }
   }
  },
  {
   "cell_type": "code",
   "execution_count": 40,
   "outputs": [
    {
     "ename": "TypeError",
     "evalue": "unhashable type: 'list'",
     "output_type": "error",
     "traceback": [
      "\u001B[0;31m---------------------------------------------------------------------------\u001B[0m",
      "\u001B[0;31mTypeError\u001B[0m                                 Traceback (most recent call last)",
      "\u001B[0;32m<ipython-input-40-cb6e72f3cda6>\u001B[0m in \u001B[0;36m<module>\u001B[0;34m\u001B[0m\n\u001B[0;32m----> 1\u001B[0;31m \u001B[0mcount\u001B[0m \u001B[0;34m=\u001B[0m \u001B[0mCounter\u001B[0m\u001B[0;34m(\u001B[0m\u001B[0mtime_numerators\u001B[0m\u001B[0;34m)\u001B[0m\u001B[0;34m\u001B[0m\u001B[0;34m\u001B[0m\u001B[0m\n\u001B[0m\u001B[1;32m      2\u001B[0m \u001B[0mdf\u001B[0m \u001B[0;34m=\u001B[0m \u001B[0mpandas\u001B[0m\u001B[0;34m.\u001B[0m\u001B[0mDataFrame\u001B[0m\u001B[0;34m.\u001B[0m\u001B[0mfrom_dict\u001B[0m\u001B[0;34m(\u001B[0m\u001B[0mcount\u001B[0m\u001B[0;34m,\u001B[0m \u001B[0morient\u001B[0m\u001B[0;34m=\u001B[0m\u001B[0;34m'index'\u001B[0m\u001B[0;34m)\u001B[0m\u001B[0;34m\u001B[0m\u001B[0;34m\u001B[0m\u001B[0m\n\u001B[1;32m      3\u001B[0m \u001B[0mdf\u001B[0m\u001B[0;34m.\u001B[0m\u001B[0mplot\u001B[0m\u001B[0;34m(\u001B[0m\u001B[0mkind\u001B[0m\u001B[0;34m=\u001B[0m\u001B[0;34m'bar'\u001B[0m\u001B[0;34m,\u001B[0m \u001B[0mtitle\u001B[0m\u001B[0;34m=\u001B[0m\u001B[0;34m'Time Numerators'\u001B[0m\u001B[0;34m)\u001B[0m\u001B[0;34m\u001B[0m\u001B[0;34m\u001B[0m\u001B[0m\n\u001B[1;32m      4\u001B[0m \u001B[0;34m\u001B[0m\u001B[0m\n",
      "\u001B[0;32m/usr/local/opt/python/Frameworks/Python.framework/Versions/3.7/lib/python3.7/collections/__init__.py\u001B[0m in \u001B[0;36m__init__\u001B[0;34m(*args, **kwds)\u001B[0m\n\u001B[1;32m    566\u001B[0m             \u001B[0;32mraise\u001B[0m \u001B[0mTypeError\u001B[0m\u001B[0;34m(\u001B[0m\u001B[0;34m'expected at most 1 arguments, got %d'\u001B[0m \u001B[0;34m%\u001B[0m \u001B[0mlen\u001B[0m\u001B[0;34m(\u001B[0m\u001B[0margs\u001B[0m\u001B[0;34m)\u001B[0m\u001B[0;34m)\u001B[0m\u001B[0;34m\u001B[0m\u001B[0;34m\u001B[0m\u001B[0m\n\u001B[1;32m    567\u001B[0m         \u001B[0msuper\u001B[0m\u001B[0;34m(\u001B[0m\u001B[0mCounter\u001B[0m\u001B[0;34m,\u001B[0m \u001B[0mself\u001B[0m\u001B[0;34m)\u001B[0m\u001B[0;34m.\u001B[0m\u001B[0m__init__\u001B[0m\u001B[0;34m(\u001B[0m\u001B[0;34m)\u001B[0m\u001B[0;34m\u001B[0m\u001B[0;34m\u001B[0m\u001B[0m\n\u001B[0;32m--> 568\u001B[0;31m         \u001B[0mself\u001B[0m\u001B[0;34m.\u001B[0m\u001B[0mupdate\u001B[0m\u001B[0;34m(\u001B[0m\u001B[0;34m*\u001B[0m\u001B[0margs\u001B[0m\u001B[0;34m,\u001B[0m \u001B[0;34m**\u001B[0m\u001B[0mkwds\u001B[0m\u001B[0;34m)\u001B[0m\u001B[0;34m\u001B[0m\u001B[0;34m\u001B[0m\u001B[0m\n\u001B[0m\u001B[1;32m    569\u001B[0m \u001B[0;34m\u001B[0m\u001B[0m\n\u001B[1;32m    570\u001B[0m     \u001B[0;32mdef\u001B[0m \u001B[0m__missing__\u001B[0m\u001B[0;34m(\u001B[0m\u001B[0mself\u001B[0m\u001B[0;34m,\u001B[0m \u001B[0mkey\u001B[0m\u001B[0;34m)\u001B[0m\u001B[0;34m:\u001B[0m\u001B[0;34m\u001B[0m\u001B[0;34m\u001B[0m\u001B[0m\n",
      "\u001B[0;32m/usr/local/opt/python/Frameworks/Python.framework/Versions/3.7/lib/python3.7/collections/__init__.py\u001B[0m in \u001B[0;36mupdate\u001B[0;34m(*args, **kwds)\u001B[0m\n\u001B[1;32m    653\u001B[0m                     \u001B[0msuper\u001B[0m\u001B[0;34m(\u001B[0m\u001B[0mCounter\u001B[0m\u001B[0;34m,\u001B[0m \u001B[0mself\u001B[0m\u001B[0;34m)\u001B[0m\u001B[0;34m.\u001B[0m\u001B[0mupdate\u001B[0m\u001B[0;34m(\u001B[0m\u001B[0miterable\u001B[0m\u001B[0;34m)\u001B[0m \u001B[0;31m# fast path when counter is empty\u001B[0m\u001B[0;34m\u001B[0m\u001B[0;34m\u001B[0m\u001B[0m\n\u001B[1;32m    654\u001B[0m             \u001B[0;32melse\u001B[0m\u001B[0;34m:\u001B[0m\u001B[0;34m\u001B[0m\u001B[0;34m\u001B[0m\u001B[0m\n\u001B[0;32m--> 655\u001B[0;31m                 \u001B[0m_count_elements\u001B[0m\u001B[0;34m(\u001B[0m\u001B[0mself\u001B[0m\u001B[0;34m,\u001B[0m \u001B[0miterable\u001B[0m\u001B[0;34m)\u001B[0m\u001B[0;34m\u001B[0m\u001B[0;34m\u001B[0m\u001B[0m\n\u001B[0m\u001B[1;32m    656\u001B[0m         \u001B[0;32mif\u001B[0m \u001B[0mkwds\u001B[0m\u001B[0;34m:\u001B[0m\u001B[0;34m\u001B[0m\u001B[0;34m\u001B[0m\u001B[0m\n\u001B[1;32m    657\u001B[0m             \u001B[0mself\u001B[0m\u001B[0;34m.\u001B[0m\u001B[0mupdate\u001B[0m\u001B[0;34m(\u001B[0m\u001B[0mkwds\u001B[0m\u001B[0;34m)\u001B[0m\u001B[0;34m\u001B[0m\u001B[0;34m\u001B[0m\u001B[0m\n",
      "\u001B[0;31mTypeError\u001B[0m: unhashable type: 'list'"
     ]
    }
   ],
   "source": [
    "count = Counter(time_numerators)\n",
    "df = pandas.DataFrame.from_dict(count, orient='index')\n",
    "df.plot(kind='bar', title='Time Numerators')"
   ],
   "metadata": {
    "collapsed": false,
    "pycharm": {
     "name": "#%% error\n"
    }
   }
  },
  {
   "cell_type": "code",
   "execution_count": null,
   "outputs": [],
   "source": [
    "count = Counter(time_denominators)\n",
    "df = pandas.DataFrame.from_dict(count, orient='index')\n",
    "df.plot(kind='bar', title='Time Denominators')"
   ],
   "metadata": {
    "collapsed": false,
    "pycharm": {
     "name": "#%% error\n"
    }
   }
  },
  {
   "cell_type": "code",
   "execution_count": 41,
   "outputs": [
    {
     "data": {
      "text/plain": "<matplotlib.axes._subplots.AxesSubplot at 0x157fd8590>"
     },
     "execution_count": 41,
     "metadata": {},
     "output_type": "execute_result"
    },
    {
     "data": {
      "text/plain": "<Figure size 432x288 with 1 Axes>",
      "image/png": "[encoded data removed]"
     },
     "metadata": {
      "needs_background": "light"
     },
     "output_type": "display_data"
    }
   ],
   "source": [
    "count = Counter(instruments)\n",
    "df = pandas.DataFrame.from_dict(count, orient='index')\n",
    "df.plot(kind='bar', title='Instruments')"
   ],
   "metadata": {
    "collapsed": false,
    "pycharm": {
     "name": "#%% sort and get most common ones\n"
    }
   }
  },
  {
   "cell_type": "code",
   "execution_count": 42,
   "outputs": [
    {
     "name": "stdout",
     "output_type": "stream",
     "text": [
      "Counter({0: 316, -1: 197, 4: 117, 32: 115, 25: 108, 24: 91, 33: 74, 1: 49, 26: 47, 35: 47, 40: 44, 27: 34, 53: 34, 49: 33, 28: 29, 5: 26, 30: 25, 48: 24, 65: 23, 29: 23, 66: 22, 16: 21, 36: 19, 50: 17, 34: 16, 2: 16, 11: 14, 18: 12, 56: 12, 61: 12, 90: 10, 17: 10, 3: 10, 39: 10, 87: 9, 37: 9, 8: 8, 64: 8, 81: 7, 73: 7, 57: 6, 44: 6, 51: 6, 54: 6, 71: 5, 22: 5, 85: 5, 7: 5, 6: 5, 62: 5, 38: 5, 52: 4, 12: 4, 59: 3, 127: 3, 45: 3, 105: 3, 88: 3, 79: 3, 89: 3, 63: 3, 46: 3, 31: 3, 9: 2, 41: 2, 80: 2, 115: 2, 103: 2, 67: 2, 10: 2, 91: 2, 72: 2, 95: 2, 100: 2, 75: 2, 19: 2, 104: 1, 110: 1, 112: 1, 102: 1, 96: 1, 92: 1, 42: 1, 70: 1, 82: 1, 94: 1, 119: 1, 77: 1, 93: 1, 116: 1, 60: 1, 20: 1, 15: 1, 113: 1, 124: 1, 84: 1, 114: 1, 126: 1, 123: 1, 108: 1})\n"
     ]
    }
   ],
   "source": [
    "print(count)"
   ],
   "metadata": {
    "collapsed": false,
    "pycharm": {
     "name": "#%%\n"
    }
   }
  },
  {
   "cell_type": "code",
   "execution_count": 14,
   "outputs": [
    {
     "data": {
      "text/plain": "<matplotlib.axes._subplots.AxesSubplot at 0x151c92950>"
     },
     "execution_count": 14,
     "metadata": {},
     "output_type": "execute_result"
    },
    {
     "data": {
      "text/plain": "<Figure size 432x288 with 1 Axes>",
      "image/png": "[encoded data removed]"
     },
     "metadata": {
      "needs_background": "light"
     },
     "output_type": "display_data"
    }
   ],
   "source": [
    "count = Counter(notes)\n",
    "df = pandas.DataFrame.from_dict(count, orient='index')\n",
    "df.plot(kind='bar', title='Notes')"
   ],
   "metadata": {
    "collapsed": false,
    "pycharm": {
     "name": "#%%\n"
    }
   }
  },
  {
   "cell_type": "code",
   "execution_count": null,
   "outputs": [],
   "source": [
    "count = Counter(notes_per_song)\n",
    "df = pandas.DataFrame.from_dict(count, orient='index')\n",
    "df.plot(kind='bar', title='Notes per song')"
   ],
   "metadata": {
    "collapsed": false,
    "pycharm": {
     "name": "#%% Irrelevant\n"
    }
   }
  },
  {
   "cell_type": "code",
   "execution_count": 10,
   "outputs": [
    {
     "data": {
      "text/plain": "<matplotlib.axes._subplots.AxesSubplot at 0x192259d10>"
     },
     "execution_count": 10,
     "metadata": {},
     "output_type": "execute_result"
    },
    {
     "data": {
      "text/plain": "<Figure size 432x288 with 1 Axes>",
      "image/png": "[encoded data removed]"
     },
     "metadata": {
      "needs_background": "light"
     },
     "output_type": "display_data"
    }
   ],
   "source": [
    "count = Counter(durations)\n",
    "df = pandas.DataFrame.from_dict(count, orient='index')\n",
    "df.plot(kind='bar', title='Durations')\n"
   ],
   "metadata": {
    "collapsed": false,
    "pycharm": {
     "name": "#%%\n"
    }
   }
  },
  {
   "cell_type": "code",
   "execution_count": 19,
   "outputs": [
    {
     "name": "stdout",
     "output_type": "stream",
     "text": [
      "there was an error\n"
     ]
    }
   ],
   "source": [],
   "metadata": {
    "collapsed": false,
    "pycharm": {
     "name": "#%% find 4 most common instruments\n"
    }
   }
  },
  {
   "cell_type": "code",
   "execution_count": 16,
   "outputs": [
    {
     "name": "stdout",
     "output_type": "stream",
     "text": [
      "[(14742, 3), (4100, 3), (2737, 3), (7370, 2), (5490, 2)]\n"
     ]
    }
   ],
   "source": [
    "import operator\n",
    "count = Counter(instruments)\n",
    "count = Counter(notes_per_song)\n",
    "t = sorted(count.items(), key=operator.itemgetter(1), reverse=True)[:5]\n",
    "print(t)"
   ],
   "metadata": {
    "collapsed": false,
    "pycharm": {
     "name": "#%%\n"
    }
   }
  },
  {
   "cell_type": "code",
   "execution_count": 11,
   "outputs": [],
   "source": [],
   "metadata": {
    "collapsed": false,
    "pycharm": {
     "name": "#%%\n"
    }
   }
  },
  {
   "cell_type": "code",
   "execution_count": null,
   "outputs": [],
   "source": [
    "\n"
   ],
   "metadata": {
    "collapsed": false,
    "pycharm": {
     "name": "#%%\n"
    }
   }
  }
 ],
 "metadata": {
  "kernelspec": {
   "name": "python37464bitdissertationvenv4d27c5bea19f4b9c854c53475dba7980",
   "language": "python",
   "display_name": "Python 3.7.4 64-bit ('dissertation': venv)"
  },
  "language_info": {
   "codemirror_mode": {
    "name": "ipython",
    "version": 2
   },
   "file_extension": ".py",
   "mimetype": "text/x-python",
   "name": "python",
   "nbconvert_exporter": "python",
   "pygments_lexer": "ipython2",
   "version": "2.7.6"
  }
 },
 "nbformat": 4,
 "nbformat_minor": 0
}