{
 "cells": [
  {
   "cell_type": "code",
   "execution_count": 1,
   "metadata": {
    "collapsed": true
   },
   "outputs": [],
   "source": [
    "from collections import Counter\n",
    "import mido\n",
    "from matplotlib import pyplot as plt\n",
    "\n",
    "def mido_setup():\n",
    "    mido.set_backend('mido.backends.rtmidi')\n",
    "    # mido.open_output()\n",
    "    mido.open_output(name='foo', virtual=True)\n",
    "\n",
    "mido_setup()"
   ]
  },
  {
   "cell_type": "code",
   "execution_count": 4,
   "metadata": {
    "pycharm": {
     "name": "#%%\n"
    }
   },
   "outputs": [],
   "source": [
    "jazz_large = '../../songs/large_db/jazz_kaggle/'\n",
    "jazz_small = '../../songs/large_db/jazz_kaggle_mini/'\n",
    "v1_path = \"../../midis/clean_songs/v1/\"\n",
    "\n",
    "song = mido.MidiFile(v1_path + \"349.mid\")"
   ]
  },
  {
   "cell_type": "code",
   "execution_count": 49,
   "metadata": {
    "pycharm": {
     "name": "#%% Class\n"
    }
   },
   "outputs": [
    {
     "data": {
      "image/png": "[encoded data removed]",
      "text/plain": [
       "<Figure size 432x288 with 1 Axes>"
      ]
     },
     "metadata": {
      "needs_background": "light"
     },
     "output_type": "display_data"
    }
   ],
   "source": [
    "# construct from midi\n",
    "\n",
    "def track_to_image(track, length):\n",
    "    time_step = 0\n",
    "    image = [ [0]*length for _ in range(120) ]\n",
    "    for msg in track:\n",
    "        if msg.type == \"note_on\":\n",
    "            time_step = time_step + msg.time\n",
    "            image[msg.note][time_step] = 1\n",
    "    return image\n",
    "\n",
    "def test_track_to_image():\n",
    "    song = mido.MidiFile(v1_path + \"349.mid\")\n",
    "    track = song.tracks[0]\n",
    "    image = track_to_image(track, 43000)\n",
    "    x = [row[:500] for row in image]\n",
    "    plt.imshow(x, cmap='gray', interpolation='nearest', vmin=0, vmax=1)\n",
    "    plt.show()\n",
    "test_track_to_image()\n"
   ]
  },
  {
   "cell_type": "code",
   "execution_count": null,
   "metadata": {
    "pycharm": {
     "name": "#%% construct from image\n"
    }
   },
   "outputs": [],
   "source": []
  },
  {
   "cell_type": "code",
   "execution_count": null,
   "metadata": {
    "pycharm": {
     "name": "#%% save as midi\n"
    }
   },
   "outputs": [],
   "source": []
  },
  {
   "cell_type": "code",
   "execution_count": null,
   "metadata": {
    "pycharm": {
     "name": "#%% save as image\n"
    }
   },
   "outputs": [],
   "source": []
  },
  {
   "cell_type": "code",
   "execution_count": 10,
   "metadata": {
    "pycharm": {
     "name": "#%% print\n"
    }
   },
   "outputs": [],
   "source": [
    "def show_image(image):\n",
    "    pass\n"
   ]
  },
  {
   "cell_type": "code",
   "execution_count": 33,
   "metadata": {
    "pycharm": {
     "name": "#%%\n"
    }
   },
   "outputs": [],
   "source": [
    "song.tracks[0][0].time = 0\n",
    "song.tracks[1][0].time = 0"
   ]
  },
  {
   "cell_type": "code",
   "execution_count": 34,
   "metadata": {
    "pycharm": {
     "name": "#%%\n"
    }
   },
   "outputs": [],
   "source": [
    "song.save(v1_path + \"349.mid\")"
   ]
  },
  {
   "cell_type": "code",
   "execution_count": null,
   "metadata": {
    "pycharm": {
     "name": "#%%\n"
    }
   },
   "outputs": [],
   "source": []
  }
 ],
 "metadata": {
  "kernelspec": {
   "display_name": "Python 3",
   "language": "python",
   "name": "python3"
  },
  "language_info": {
   "codemirror_mode": {
    "name": "ipython",
    "version": 3
   },
   "file_extension": ".py",
   "mimetype": "text/x-python",
   "name": "python",
   "nbconvert_exporter": "python",
   "pygments_lexer": "ipython3",
   "version": "3.7.4"
  }
 },
 "nbformat": 4,
 "nbformat_minor": 1
}
