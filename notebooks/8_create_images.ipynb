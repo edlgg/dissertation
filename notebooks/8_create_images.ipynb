{
 "cells": [
  {
   "cell_type": "code",
   "execution_count": 1,
   "metadata": {},
   "outputs": [],
   "source": [
    "# Split into 5000 tick images with 1000 tick shift\n",
    "import mido\n",
    "from utils import mido_setup, get_track_instrument_type\n",
    "import os\n",
    "import pandas\n",
    "from collections import Counter\n",
    "from matplotlib import pyplot as plt"
   ]
  },
  {
   "cell_type": "code",
   "execution_count": 8,
   "metadata": {},
   "outputs": [],
   "source": [
    "initial_path = \"/Users/edlgg/repos/dissertation/midis/v3/control_change/0_vel/120/\"\n",
    "path = initial_path\n",
    "images_path = \"/Users/edlgg/repos/dissertation/images/v3\"\n",
    "# images_out_path = \"/Users/edlgg/repos/dissertation/results/images/v1\"\n",
    "# midi_out_path = \"/Users/edlgg/repos/dissertation/results/midis/v1\""
   ]
  },
  {
   "cell_type": "code",
   "execution_count": 9,
   "metadata": {},
   "outputs": [],
   "source": [
    "mid = mido.MidiFile(path + \"pink_panther2.mid\")"
   ]
  },
  {
   "cell_type": "code",
   "execution_count": 10,
   "metadata": {},
   "outputs": [
    {
     "data": {
      "text/plain": [
       "40757"
      ]
     },
     "execution_count": 10,
     "metadata": {},
     "output_type": "execute_result"
    }
   ],
   "source": [
    "def get_max_length_mid(mid):\n",
    "    max_length = 0\n",
    "    for track in mid.tracks:\n",
    "        length = 0\n",
    "        for msg in track:\n",
    "            if msg.type == \"note_on\":\n",
    "                length = length + msg.time\n",
    "        if length > max_length:\n",
    "            max_length = length\n",
    "    return max_length\n",
    "get_max_length_mid(mid)"
   ]
  },
  {
   "cell_type": "code",
   "execution_count": 11,
   "metadata": {
    "scrolled": true
   },
   "outputs": [],
   "source": [
    "def track_to_image(track, length):\n",
    "    image = [ [-1]*(length+1) for _ in range(90) ]\n",
    "    note_locs = []\n",
    "    time_step = 0\n",
    "    for msg in track:\n",
    "        if msg.type == \"note_on\":\n",
    "            time_step = time_step + int(msg.time)\n",
    "            image[msg.note][time_step] = msg.velocity\n",
    "            if msg.velocity != 0:\n",
    "                note_locs.append((msg.note, time_step))\n",
    "                \n",
    "    for note_loc in note_locs:\n",
    "        y = note_loc[0]\n",
    "        x = note_loc[1]\n",
    "        note = image[y][x]\n",
    "        while image[y][x] != 0:\n",
    "            image[y][x] = note\n",
    "            x = x + 1\n",
    "            \n",
    "    for i, row in enumerate(image):\n",
    "        for j, e in enumerate(row):\n",
    "            if image[i][j] == -1:\n",
    "                image[i][j] = 0\n",
    "                \n",
    "    image = image[20:]\n",
    "    inverted_image = []\n",
    "    for row in image:\n",
    "        inverted_image.insert(0, row)\n",
    "    return inverted_image\n",
    "# image = track_to_image(mid.tracks[0], 108595)\n",
    "\n",
    "def test_track_to_image(initial_path):\n",
    "    song = mido.MidiFile(initial_path + \"pink_panther2.mid\")\n",
    "    le = get_max_length_mid(song)\n",
    "    image = track_to_image(song.tracks[0], le)\n",
    "    \n",
    "    x = [row[:2000] for row in image]\n",
    "    plt.figure(figsize=(100,300))\n",
    "    plt.imshow(x, cmap='gray', interpolation='nearest', vmin=0, vmax=120)\n",
    "    plt.show()\n",
    "# test_track_to_image(initial_path)"
   ]
  },
  {
   "cell_type": "code",
   "execution_count": 12,
   "metadata": {},
   "outputs": [],
   "source": [
    "image = track_to_image(mid.tracks[0], 108595)\n",
    "image = [row[:2500] for row in image]\n",
    "count = 0\n",
    "for row in image:\n",
    "    for i in row:\n",
    "        if i != 0:\n",
    "            count = count + 1"
   ]
  },
  {
   "cell_type": "code",
   "execution_count": 13,
   "metadata": {},
   "outputs": [],
   "source": [
    "def create_image_from_mid(mid):\n",
    "    length = get_max_length_mid(mid)\n",
    "    guitar_image = track_to_image(mid.tracks[0], length)\n",
    "    bass_image = track_to_image(mid.tracks[1], length)\n",
    "    return guitar_image + bass_image\n",
    "\n",
    "def test_create_image_from_mid(mid):\n",
    "    image = create_image_from_mid(mid)\n",
    "    x = [row[-2000:] for row in image]\n",
    "    plt.figure(figsize=(100,300))\n",
    "    plt.imshow(x, cmap='gray', interpolation='nearest', vmin=0, vmax=120)\n",
    "    plt.show()\n",
    "# test_create_image_from_mid(mid)"
   ]
  },
  {
   "cell_type": "code",
   "execution_count": 14,
   "metadata": {},
   "outputs": [],
   "source": [
    "def split_image(image, stride):\n",
    "    images = []\n",
    "    x = 2000\n",
    "    while x <= len(image[0]):\n",
    "        sub_image = [row[x-2000:x] for row in image]\n",
    "        x = x + stride\n",
    "        guitar = sub_image[:70]\n",
    "        count_guitar = 0\n",
    "        for row in guitar:\n",
    "            for e in row:\n",
    "                if e != 0:\n",
    "                    count_guitar = count_guitar + 1\n",
    "        bass = sub_image[70:]\n",
    "        count_bass = 0\n",
    "        for row in guitar:\n",
    "            for e in row:\n",
    "                if e != 0:\n",
    "                    count_bass = count_bass + 1\n",
    "        if min(count_guitar, count_bass) > 200 and max(count_guitar, count_bass) > 1000:\n",
    "            images.append(sub_image)\n",
    "    return images"
   ]
  },
  {
   "cell_type": "code",
   "execution_count": 17,
   "metadata": {},
   "outputs": [],
   "source": [
    "image = create_image_from_mid(mid)\n",
    "images = split_image(image, 500)\n",
    "image = images[0]"
   ]
  },
  {
   "cell_type": "code",
   "execution_count": 13,
   "metadata": {},
   "outputs": [],
   "source": [
    "def create_images(initial_path, end_path):\n",
    "    pass"
   ]
  },
  {
   "cell_type": "code",
   "execution_count": 14,
   "metadata": {},
   "outputs": [],
   "source": [
    "def create_midi_from_image(image):\n",
    "    pass"
   ]
  },
  {
   "cell_type": "code",
   "execution_count": 187,
   "metadata": {},
   "outputs": [],
   "source": [
    "def save_images_to_csv(images):\n",
    "    pass"
   ]
  },
  {
   "cell_type": "code",
   "execution_count": null,
   "metadata": {},
   "outputs": [],
   "source": [
    "def load_images_from_csv(path):\n",
    "    pass"
   ]
  }
 ],
 "metadata": {
  "kernelspec": {
   "display_name": "Python 3.7.4 64-bit ('dissertation': venv)",
   "language": "python",
   "name": "python37464bitdissertationvenv4d27c5bea19f4b9c854c53475dba7980"
  },
  "language_info": {
   "codemirror_mode": {
    "name": "ipython",
    "version": 3
   },
   "file_extension": ".py",
   "mimetype": "text/x-python",
   "name": "python",
   "nbconvert_exporter": "python",
   "pygments_lexer": "ipython3",
   "version": "3.7.4"
  }
 },
 "nbformat": 4,
 "nbformat_minor": 4
}
