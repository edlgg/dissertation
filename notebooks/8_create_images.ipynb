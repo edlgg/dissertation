{
 "cells": [
  {
   "cell_type": "code",
   "execution_count": 1,
   "metadata": {},
   "outputs": [],
   "source": [
    "import mido\n",
    "from utils import mido_setup, get_track_instrument_type\n",
    "import os\n",
    "import pandas\n",
    "from collections import Counter\n",
    "from matplotlib import pyplot as plt"
   ]
  },
  {
   "cell_type": "code",
   "execution_count": 168,
   "metadata": {},
   "outputs": [],
   "source": [
    "initial_path = \"/Users/edlgg/repos/dissertation/midis/v3/control_change/0_vel/120/\"\n",
    "path = initial_path\n",
    "images_path = \"/Users/edlgg/repos/dissertation/images/v3\"\n",
    "# images_out_path = \"/Users/edlgg/repos/dissertation/results/images/v1\"\n",
    "# midi_out_path = \"/Users/edlgg/repos/dissertation/results/midis/v1\"\n",
    "mid = mido.MidiFile(path + \"pink_panther2.mid\")"
   ]
  },
  {
   "cell_type": "code",
   "execution_count": 167,
   "metadata": {},
   "outputs": [],
   "source": [
    "def get_max_length_mid(mid):\n",
    "    max_length = 0\n",
    "    for track in mid.tracks:\n",
    "        length = 0\n",
    "        for msg in track:\n",
    "            if msg.type == \"note_on\":\n",
    "                length = length + msg.time\n",
    "        if length > max_length:\n",
    "            max_length = length\n",
    "    return max_length\n",
    "# get_max_length_mid(mid)"
   ]
  },
  {
   "cell_type": "code",
   "execution_count": 102,
   "metadata": {
    "scrolled": true
   },
   "outputs": [
    {
     "data": {
      "image/png": "[encoded data removed]",
      "text/plain": [
       "<Figure size 7200x21600 with 1 Axes>"
      ]
     },
     "metadata": {
      "needs_background": "light"
     },
     "output_type": "display_data"
    }
   ],
   "source": [
    "def track_to_image(track, length, include_velocity = True):\n",
    "    image = [ [-1]*(length+1) for _ in range(90) ]\n",
    "    note_locs = []\n",
    "    time_step = 0\n",
    "    for msg in track:\n",
    "        if msg.type == \"note_on\":\n",
    "            time_step = time_step + int(msg.time)\n",
    "            \n",
    "            if include_velocity:\n",
    "                image[msg.note][time_step] = msg.velocity\n",
    "            else:\n",
    "                if msg.velocity != 0:\n",
    "                    image[msg.note][time_step] = 1\n",
    "                else:\n",
    "                    image[msg.note][time_step] = 0\n",
    "                \n",
    "            if msg.velocity != 0:\n",
    "                note_locs.append((msg.note, time_step))\n",
    "                \n",
    "    for note_loc in note_locs:\n",
    "        y = note_loc[0]\n",
    "        x = note_loc[1]\n",
    "        vel = image[y][x]\n",
    "        while image[y][x] != 0:\n",
    "            image[y][x] = vel\n",
    "            x = x + 1\n",
    "            \n",
    "    for i, row in enumerate(image):\n",
    "        for j, e in enumerate(row):\n",
    "            if image[i][j] == -1:\n",
    "                image[i][j] = 0\n",
    "                \n",
    "    image = image[20:]\n",
    "    inverted_image = []\n",
    "    for row in image:\n",
    "        inverted_image.insert(0, row)\n",
    "#     return inverted_image\n",
    "    return image\n",
    "# image = track_to_image(mid.tracks[0], 108595)\n",
    "\n",
    "def test_track_to_image(initial_path):\n",
    "    song = mido.MidiFile(initial_path + \"pink_panther2.mid\")\n",
    "    le = get_max_length_mid(song)\n",
    "    image = track_to_image(song.tracks[0], le, False)\n",
    "    \n",
    "    x = [row[:2000] for row in image]\n",
    "    plt.figure(figsize=(100,300))\n",
    "    plt.imshow(x, cmap='gray', interpolation='nearest')\n",
    "    plt.show()\n",
    "test_track_to_image(initial_path)"
   ]
  },
  {
   "cell_type": "code",
   "execution_count": 103,
   "metadata": {},
   "outputs": [],
   "source": [
    "def create_image_from_mid(mid, include_velocity = False):\n",
    "    length = get_max_length_mid(mid)\n",
    "    guitar_image = track_to_image(mid.tracks[0], length, include_velocity)\n",
    "    bass_image = track_to_image(mid.tracks[1], length, include_velocity)\n",
    "    return guitar_image + bass_image\n",
    "\n",
    "def test_create_image_from_mid(mid):\n",
    "    image = create_image_from_mid(mid, False)\n",
    "    x = [row[-2000:] for row in image]\n",
    "    plt.figure(figsize=(100,300))\n",
    "    plt.imshow(x, cmap='gray', interpolation='nearest')\n",
    "    plt.show()\n",
    "# test_create_image_from_mid(mid)"
   ]
  },
  {
   "cell_type": "code",
   "execution_count": 104,
   "metadata": {},
   "outputs": [],
   "source": [
    "def split_image(image, stride):\n",
    "    images = []\n",
    "    x = 2000\n",
    "    while x <= len(image[0]):\n",
    "        sub_image = [row[x-2000:x] for row in image]\n",
    "        x = x + stride\n",
    "        \n",
    "        # Ensure pic has values\n",
    "        guitar = sub_image[:70]\n",
    "        count_guitar = 0\n",
    "        for row in guitar:\n",
    "            for e in row:\n",
    "                if e != 0:\n",
    "                    count_guitar = count_guitar + 1\n",
    "        bass = sub_image[70:]\n",
    "        count_bass = 0\n",
    "        for row in guitar:\n",
    "            for e in row:\n",
    "                if e != 0:\n",
    "                    count_bass = count_bass + 1\n",
    "        if min(count_guitar, count_bass) > 200 and max(count_guitar, count_bass) > 1000:\n",
    "            images.append(sub_image)\n",
    "    return images"
   ]
  },
  {
   "cell_type": "code",
   "execution_count": 160,
   "metadata": {},
   "outputs": [],
   "source": [
    "class Message:\n",
    "    def __init__(self, note, time_step, velocity):\n",
    "        self.note = note\n",
    "        self.time_step = time_step\n",
    "        self.velocity = velocity\n",
    "        self.time = -1\n",
    "        \n",
    "    def __str__(self):\n",
    "         return \"Message: note = \" + str(self.note) + \" time_step = \" + str(self.time_step) + \" vel = \" + str(self.velocity) + \" time = \" + str(self.time)\n",
    "        \n",
    "def create_midi_track_from_image(track_image, instrument=\"Guitar\"):    \n",
    "    messages = []\n",
    "    for note, row in enumerate(track_image):\n",
    "        for time_step, e in enumerate(row):\n",
    "            if time_step != 0 and time_step != len(track_image[0]) - 1:\n",
    "                \n",
    "                if track_image[note][time_step] != 0 and track_image[note][time_step-1] == 0:\n",
    "                    vel = track_image[note][time_step]\n",
    "                    if vel == 1:\n",
    "                        vel = 120\n",
    "                    messages.append(Message(note+20, time_step, vel))\n",
    "                if track_image[note][time_step] != 0 and track_image[note][time_step+1] == 0:\n",
    "                    messages.append(Message(note+20, time_step+1, track_image[note][time_step+1]))\n",
    "                    \n",
    "    for note, row in enumerate(track_image):\n",
    "        if track_image[note][0] != 0 and track_image[note][1] != 0:\n",
    "            vel = track_image[note][time_step]\n",
    "            if vel == 1:\n",
    "                vel = 120\n",
    "            messages.append(Message(note+20, 0, vel))\n",
    "        if track_image[note][len(track_image[0]) - 1] != 0 and track_image[note][len(track_image[0]) - 2] != 0:\n",
    "            messages.append(Message(note+20, len(track_image[0]) - 1, track_image[note][len(track_image[0]) - 1]))\n",
    "            \n",
    "    messages.sort(key=lambda x: x.time_step)\n",
    "    \n",
    "    for i, msg in enumerate(messages):\n",
    "        if i == 0:\n",
    "            msg.time = msg.time_step\n",
    "        else:\n",
    "            msg.time = msg.time_step - messages[i-1].time_step\n",
    "    \n",
    "    \n",
    "    track = mido.MidiTrack()\n",
    "    instrumet_type = 26\n",
    "    if instrument == \"Bass\":\n",
    "        instrumet_type = 34\n",
    "    track.append(mido.Message('program_change', program=instrumet_type, time=0))\n",
    "    for msg in messages:\n",
    "        track.append(mido.Message('note_on', note=msg.note, velocity=msg.velocity, time=msg.time))\n",
    "    \n",
    "    return track"
   ]
  },
  {
   "cell_type": "code",
   "execution_count": 163,
   "metadata": {},
   "outputs": [],
   "source": [
    "def create_midi_from_image(image):\n",
    "    guitar_image = image[:70]\n",
    "    bass_image = image[70:]\n",
    "    \n",
    "    guitar_track = create_midi_track_from_image(guitar_image, \"Guitar\")\n",
    "    bass_track = create_midi_track_from_image(bass_image, \"Bass\")\n",
    "    bass_track[0].channel = 1\n",
    "    \n",
    "    mid = mido.MidiFile()\n",
    "    mid.ticks_per_beat = 120\n",
    "    mid.tracks.append(guitar_track)\n",
    "    mid.tracks.append(bass_track)\n",
    "    return mid"
   ]
  },
  {
   "cell_type": "code",
   "execution_count": 170,
   "metadata": {},
   "outputs": [],
   "source": [
    "def random_test():\n",
    "    image = create_image_from_mid(mid, False)\n",
    "    images = split_image(image, 500)\n",
    "    image = images[0]\n",
    "    guitar_image = image[:70]\n",
    "    inverted_image = []\n",
    "    for row in guitar_image:\n",
    "        inverted_image.insert(0, row)\n",
    "    guitar_image = inverted_image\n",
    "    plt.figure(figsize=(100,300))\n",
    "    plt.imshow(guitar_image, cmap='gray', interpolation='nearest')\n",
    "    plt.show()\n",
    "    messages = create_midi_track_from_image(guitar_image)\n",
    "    print(len(guitar_image))\n",
    "# random_test()"
   ]
  },
  {
   "cell_type": "code",
   "execution_count": 171,
   "metadata": {},
   "outputs": [],
   "source": [
    "def random_test_2():\n",
    "    image = create_image_from_mid(mid)\n",
    "    images = split_image(image, 500)\n",
    "    plt.figure(figsize=(100,300))\n",
    "    plt.imshow(image, cmap='gray', interpolation='nearest')\n",
    "    plt.show()\n",
    "    mid2 = create_midi_from_image(image)\n",
    "    mid_start = create_midi_from_image(images[0])\n",
    "    mid_end = create_midi_from_image(images[-1])\n",
    "    mid2.save(\"/Users/edlgg/Desktop/complete.mid\")\n",
    "    mid_start.save(\"/Users/edlgg/Desktop/start.mid\")\n",
    "    mid_end.save(\"/Users/edlgg/Desktop/end.mid\")\n",
    "# random_test_2()"
   ]
  },
  {
   "cell_type": "code",
   "execution_count": 187,
   "metadata": {},
   "outputs": [],
   "source": [
    "def save_images_to_csv(images):\n",
    "    pass"
   ]
  },
  {
   "cell_type": "code",
   "execution_count": null,
   "metadata": {},
   "outputs": [],
   "source": [
    "def load_images_from_csv(path):\n",
    "    pass"
   ]
  }
 ],
 "metadata": {
  "kernelspec": {
   "display_name": "Python 3.7.4 64-bit ('dissertation': venv)",
   "language": "python",
   "name": "python37464bitdissertationvenv4d27c5bea19f4b9c854c53475dba7980"
  },
  "language_info": {
   "codemirror_mode": {
    "name": "ipython",
    "version": 3
   },
   "file_extension": ".py",
   "mimetype": "text/x-python",
   "name": "python",
   "nbconvert_exporter": "python",
   "pygments_lexer": "ipython3",
   "version": "3.7.4"
  }
 },
 "nbformat": 4,
 "nbformat_minor": 4
}
